{
  "nbformat": 4,
  "nbformat_minor": 0,
  "metadata": {
    "colab": {
      "name": "05-data-prep-carbon-intensity.ipynb",
      "provenance": [],
      "authorship_tag": "ABX9TyOrtsx6MBB7dZZh9qPiL9vi",
      "include_colab_link": true
    },
    "kernelspec": {
      "name": "python3",
      "display_name": "Python 3"
    }
  },
  "cells": [
    {
      "cell_type": "markdown",
      "metadata": {
        "id": "view-in-github",
        "colab_type": "text"
      },
      "source": [
        "<a href=\"https://colab.research.google.com/github/bytehub-ai/code-examples/blob/main/05_data_prep_carbon_intensity.ipynb\" target=\"_parent\"><img src=\"https://colab.research.google.com/assets/colab-badge.svg\" alt=\"Open In Colab\"/></a>"
      ]
    },
    {
      "cell_type": "markdown",
      "metadata": {
        "id": "V8SbSvfK9HLl"
      },
      "source": [
        "# ByteHub Feature Store: Data prep example\n",
        "\n",
        "This notebook demo shows how to use feature transforms to organise and automate data preparation. As an example, we use [UK electricity carbon intensity](https://api.carbonintensity.org.uk/) data.\n"
      ]
    },
    {
      "cell_type": "code",
      "metadata": {
        "id": "cJfqte908-kh"
      },
      "source": [
        "!pip install -q bytehub"
      ],
      "execution_count": 1,
      "outputs": []
    },
    {
      "cell_type": "code",
      "metadata": {
        "colab": {
          "base_uri": "https://localhost:8080/"
        },
        "id": "r3M6oSUb9Ykp",
        "outputId": "e1859df5-707d-483d-ba2b-26045176f19f"
      },
      "source": [
        "import pandas as pd\n",
        "import numpy as np\n",
        "import os\n",
        "import shutil\n",
        "import bytehub as bh\n",
        "import requests\n",
        "print(f'ByteHub version {bh.__version__}')"
      ],
      "execution_count": 2,
      "outputs": [
        {
          "output_type": "stream",
          "text": [
            "ByteHub version 0.3.1\n"
          ],
          "name": "stdout"
        }
      ]
    },
    {
      "cell_type": "code",
      "metadata": {
        "id": "pmMPr2SZ98iN"
      },
      "source": [
        "# Remove any previously created feature stores\n",
        "try:\n",
        "    os.remove('bytehub.db')\n",
        "except FileNotFoundError:\n",
        "    pass\n",
        "try:\n",
        "    shutil.rmtree('/tmp/featurestore/tutorial')\n",
        "except FileNotFoundError:\n",
        "    pass"
      ],
      "execution_count": 3,
      "outputs": []
    },
    {
      "cell_type": "markdown",
      "metadata": {
        "id": "XayYt1Yq9WPx"
      },
      "source": [
        "Create a new featurestore - this will be stored in a local sqlite database named `bytehub.db`."
      ]
    },
    {
      "cell_type": "code",
      "metadata": {
        "id": "qWVg7Sg9-Hy3"
      },
      "source": [
        "fs = bh.FeatureStore()"
      ],
      "execution_count": 4,
      "outputs": []
    },
    {
      "cell_type": "markdown",
      "metadata": {
        "id": "OTE-f8fa-iy3"
      },
      "source": [
        "Next, create a namespace called `tutorial` to store some features in. Edit the url field to specify a local file storage location that you would like to use. Feature values will be saved within this folder using parquet format."
      ]
    },
    {
      "cell_type": "code",
      "metadata": {
        "id": "ubaeuZ-3-TR_"
      },
      "source": [
        "fs.create_namespace(\n",
        "    'tutorial', url='/tmp/featurestore/tutorial', description='Data prep tutorial'\n",
        ")"
      ],
      "execution_count": 5,
      "outputs": []
    },
    {
      "cell_type": "markdown",
      "metadata": {
        "id": "DPb_D05eC_dA"
      },
      "source": [
        "Fetch carbon intensity and fuel-mix data from [https://api.carbonintensity.org.uk/](https://api.carbonintensity.org.uk/). These datasets are provided as JSON dictionaries, which we will put in the feature store."
      ]
    },
    {
      "cell_type": "code",
      "metadata": {
        "id": "_GkmupzeyuxD"
      },
      "source": [
        "# API supports queries spanning up to 31 days\n",
        "from_date = pd.Timestamp('2021-01-01')\n",
        "to_date = pd.Timestamp('2021-01-31')"
      ],
      "execution_count": 6,
      "outputs": []
    },
    {
      "cell_type": "code",
      "metadata": {
        "colab": {
          "base_uri": "https://localhost:8080/",
          "height": 204
        },
        "id": "ybtSrB3dC1Zr",
        "outputId": "fe5468a2-c4c7-46bb-d77d-5ee52d60b92a"
      },
      "source": [
        "# Query for carbon intensity\n",
        "response = requests.get(\n",
        "  f'https://api.carbonintensity.org.uk/intensity/{from_date.strftime(\"%Y-%m-%dT%H:%MZ\")}/{to_date.strftime(\"%Y-%m-%dT%H:%MZ\")}',\n",
        ")\n",
        "response.raise_for_status()\n",
        "\n",
        "df_carbon = pd.DataFrame(\n",
        "    {\n",
        "        'time': pd.to_datetime([row['from'] for row in response.json()['data']]).tz_localize(None),\n",
        "        'value': [row['intensity'] for row in response.json()['data']]\n",
        "    }\n",
        ")\n",
        "df_carbon.head()"
      ],
      "execution_count": 7,
      "outputs": [
        {
          "output_type": "execute_result",
          "data": {
            "text/html": [
              "<div>\n",
              "<style scoped>\n",
              "    .dataframe tbody tr th:only-of-type {\n",
              "        vertical-align: middle;\n",
              "    }\n",
              "\n",
              "    .dataframe tbody tr th {\n",
              "        vertical-align: top;\n",
              "    }\n",
              "\n",
              "    .dataframe thead th {\n",
              "        text-align: right;\n",
              "    }\n",
              "</style>\n",
              "<table border=\"1\" class=\"dataframe\">\n",
              "  <thead>\n",
              "    <tr style=\"text-align: right;\">\n",
              "      <th></th>\n",
              "      <th>time</th>\n",
              "      <th>value</th>\n",
              "    </tr>\n",
              "  </thead>\n",
              "  <tbody>\n",
              "    <tr>\n",
              "      <th>0</th>\n",
              "      <td>2020-12-31 23:30:00</td>\n",
              "      <td>{'forecast': 190, 'actual': 184, 'index': 'mod...</td>\n",
              "    </tr>\n",
              "    <tr>\n",
              "      <th>1</th>\n",
              "      <td>2021-01-01 00:00:00</td>\n",
              "      <td>{'forecast': 181, 'actual': 187, 'index': 'mod...</td>\n",
              "    </tr>\n",
              "    <tr>\n",
              "      <th>2</th>\n",
              "      <td>2021-01-01 00:30:00</td>\n",
              "      <td>{'forecast': 178, 'actual': 182, 'index': 'mod...</td>\n",
              "    </tr>\n",
              "    <tr>\n",
              "      <th>3</th>\n",
              "      <td>2021-01-01 01:00:00</td>\n",
              "      <td>{'forecast': 175, 'actual': 178, 'index': 'mod...</td>\n",
              "    </tr>\n",
              "    <tr>\n",
              "      <th>4</th>\n",
              "      <td>2021-01-01 01:30:00</td>\n",
              "      <td>{'forecast': 174, 'actual': 171, 'index': 'mod...</td>\n",
              "    </tr>\n",
              "  </tbody>\n",
              "</table>\n",
              "</div>"
            ],
            "text/plain": [
              "                 time                                              value\n",
              "0 2020-12-31 23:30:00  {'forecast': 190, 'actual': 184, 'index': 'mod...\n",
              "1 2021-01-01 00:00:00  {'forecast': 181, 'actual': 187, 'index': 'mod...\n",
              "2 2021-01-01 00:30:00  {'forecast': 178, 'actual': 182, 'index': 'mod...\n",
              "3 2021-01-01 01:00:00  {'forecast': 175, 'actual': 178, 'index': 'mod...\n",
              "4 2021-01-01 01:30:00  {'forecast': 174, 'actual': 171, 'index': 'mod..."
            ]
          },
          "metadata": {
            "tags": []
          },
          "execution_count": 7
        }
      ]
    },
    {
      "cell_type": "code",
      "metadata": {
        "colab": {
          "base_uri": "https://localhost:8080/",
          "height": 204
        },
        "id": "cAEMznKSxNwm",
        "outputId": "428a2d4e-42ef-4fe5-fa0b-0c84f1a0b236"
      },
      "source": [
        "# Query for electricity generation fuel mix\n",
        "response = requests.get(\n",
        "  f'https://api.carbonintensity.org.uk/generation/{from_date.strftime(\"%Y-%m-%dT%H:%MZ\")}/{to_date.strftime(\"%Y-%m-%dT%H:%MZ\")}',\n",
        ")\n",
        "response.raise_for_status()\n",
        "df_generation = pd.DataFrame(\n",
        "    {\n",
        "        'time': pd.to_datetime([row['from'] for row in response.json()['data']]).tz_localize(None),\n",
        "        'value': [row['generationmix'] for row in response.json()['data']]\n",
        "    }\n",
        ")\n",
        "df_generation.head()"
      ],
      "execution_count": 8,
      "outputs": [
        {
          "output_type": "execute_result",
          "data": {
            "text/html": [
              "<div>\n",
              "<style scoped>\n",
              "    .dataframe tbody tr th:only-of-type {\n",
              "        vertical-align: middle;\n",
              "    }\n",
              "\n",
              "    .dataframe tbody tr th {\n",
              "        vertical-align: top;\n",
              "    }\n",
              "\n",
              "    .dataframe thead th {\n",
              "        text-align: right;\n",
              "    }\n",
              "</style>\n",
              "<table border=\"1\" class=\"dataframe\">\n",
              "  <thead>\n",
              "    <tr style=\"text-align: right;\">\n",
              "      <th></th>\n",
              "      <th>time</th>\n",
              "      <th>value</th>\n",
              "    </tr>\n",
              "  </thead>\n",
              "  <tbody>\n",
              "    <tr>\n",
              "      <th>0</th>\n",
              "      <td>2020-12-31 23:30:00</td>\n",
              "      <td>[{'fuel': 'biomass', 'perc': 10.8}, {'fuel': '...</td>\n",
              "    </tr>\n",
              "    <tr>\n",
              "      <th>1</th>\n",
              "      <td>2021-01-01 00:00:00</td>\n",
              "      <td>[{'fuel': 'biomass', 'perc': 10.9}, {'fuel': '...</td>\n",
              "    </tr>\n",
              "    <tr>\n",
              "      <th>2</th>\n",
              "      <td>2021-01-01 00:30:00</td>\n",
              "      <td>[{'fuel': 'biomass', 'perc': 10.8}, {'fuel': '...</td>\n",
              "    </tr>\n",
              "    <tr>\n",
              "      <th>3</th>\n",
              "      <td>2021-01-01 01:00:00</td>\n",
              "      <td>[{'fuel': 'biomass', 'perc': 11.1}, {'fuel': '...</td>\n",
              "    </tr>\n",
              "    <tr>\n",
              "      <th>4</th>\n",
              "      <td>2021-01-01 01:30:00</td>\n",
              "      <td>[{'fuel': 'biomass', 'perc': 11.3}, {'fuel': '...</td>\n",
              "    </tr>\n",
              "  </tbody>\n",
              "</table>\n",
              "</div>"
            ],
            "text/plain": [
              "                 time                                              value\n",
              "0 2020-12-31 23:30:00  [{'fuel': 'biomass', 'perc': 10.8}, {'fuel': '...\n",
              "1 2021-01-01 00:00:00  [{'fuel': 'biomass', 'perc': 10.9}, {'fuel': '...\n",
              "2 2021-01-01 00:30:00  [{'fuel': 'biomass', 'perc': 10.8}, {'fuel': '...\n",
              "3 2021-01-01 01:00:00  [{'fuel': 'biomass', 'perc': 11.1}, {'fuel': '...\n",
              "4 2021-01-01 01:30:00  [{'fuel': 'biomass', 'perc': 11.3}, {'fuel': '..."
            ]
          },
          "metadata": {
            "tags": []
          },
          "execution_count": 8
        }
      ]
    },
    {
      "cell_type": "markdown",
      "metadata": {
        "id": "P7gio9kqznpJ"
      },
      "source": [
        "Save both of these raw datasets to the feature store. Setting `serialized=True` when creating the features allows more flexibility for the data format to change. For example, it will allow the JSON schema to vary over time without causing an error."
      ]
    },
    {
      "cell_type": "code",
      "metadata": {
        "id": "GZW_s-CHzF60"
      },
      "source": [
        "fs.create_feature('tutorial/rawdata.carbon', partition='year', serialized=True)\n",
        "fs.save_dataframe(df_carbon, 'tutorial/rawdata.carbon')"
      ],
      "execution_count": 9,
      "outputs": []
    },
    {
      "cell_type": "code",
      "metadata": {
        "id": "xPI5v-KY1KZq"
      },
      "source": [
        "fs.create_feature('tutorial/rawdata.generation', partition='year', serialized=True)\n",
        "fs.save_dataframe(df_generation, 'tutorial/rawdata.generation')"
      ],
      "execution_count": 10,
      "outputs": []
    },
    {
      "cell_type": "markdown",
      "metadata": {
        "id": "tweB22f_ExIn"
      },
      "source": [
        "Now we can use **feature transforms** to unpack data from the raw JSON format, and make time-series that could be used by ML-models. Start by extracting `forecast` and `actual` from the carbon intensity data."
      ]
    },
    {
      "cell_type": "code",
      "metadata": {
        "id": "5MiqUoKIEgrF"
      },
      "source": [
        "# Extract carbon intensity forecast from dictionary\n",
        "@fs.transform('tutorial/feature.carbon-forecast', from_features=['tutorial/rawdata.carbon'])\n",
        "def unpack_carbon_forecast(df):\n",
        "  return df['tutorial/rawdata.carbon'].apply(lambda x: x['forecast'])\n",
        "\n",
        "# Extract carbon intensity actuals from dictionary\n",
        "@fs.transform('tutorial/feature.carbon-actual', from_features=['tutorial/rawdata.carbon'])\n",
        "def unpack_carbon_actual(df):\n",
        "  return df['tutorial/rawdata.carbon'].apply(lambda x: x['actual'])"
      ],
      "execution_count": 11,
      "outputs": []
    },
    {
      "cell_type": "markdown",
      "metadata": {
        "id": "GDKK8G0S4OvL"
      },
      "source": [
        "For generation, we calculate the percentage of low-carbon generation by addition together `biomass`, `nuclear`, `hydro`, `solar` and `wind`."
      ]
    },
    {
      "cell_type": "code",
      "metadata": {
        "id": "vWDChcf04NGR"
      },
      "source": [
        "@fs.transform('tutorial/feature.low-carbon-fuels', from_features=['tutorial/rawdata.generation'])\n",
        "def total_low_carbon(df):\n",
        "  fuels = ['biomass', 'nuclear', 'hydro', 'solar', 'wind']\n",
        "  def low_carbon(record):\n",
        "    # Get the percentage for each low-carbon fuel\n",
        "    low_carbon = [x['perc'] for x in record if x['fuel'] in fuels]\n",
        "    return sum(low_carbon)\n",
        "  return df['tutorial/rawdata.generation'].apply(low_carbon)"
      ],
      "execution_count": 12,
      "outputs": []
    },
    {
      "cell_type": "markdown",
      "metadata": {
        "id": "ioAgbj4I54aG"
      },
      "source": [
        "These data-prepartion steps are now saved within the feature store, and easily reusable for downstream data science tasks.\n",
        "\n",
        "We can now call `fs.load_dataframe` to query and use our prepared features. Here we extract an hourly timeseries of carbon intensity and low-carbon fuel data, and plot on a scatter diagram."
      ]
    },
    {
      "cell_type": "code",
      "metadata": {
        "colab": {
          "base_uri": "https://localhost:8080/",
          "height": 204
        },
        "id": "uR8zbIdT4Squ",
        "outputId": "70b0c445-749f-4a21-964a-3d4f678744c7"
      },
      "source": [
        "df_prepared_data = fs.load_dataframe(['tutorial/feature.low-carbon-fuels', 'tutorial/feature.carbon-actual'], from_date=from_date, freq='1h')\n",
        "df_prepared_data.head()"
      ],
      "execution_count": 13,
      "outputs": [
        {
          "output_type": "execute_result",
          "data": {
            "text/html": [
              "<div>\n",
              "<style scoped>\n",
              "    .dataframe tbody tr th:only-of-type {\n",
              "        vertical-align: middle;\n",
              "    }\n",
              "\n",
              "    .dataframe tbody tr th {\n",
              "        vertical-align: top;\n",
              "    }\n",
              "\n",
              "    .dataframe thead th {\n",
              "        text-align: right;\n",
              "    }\n",
              "</style>\n",
              "<table border=\"1\" class=\"dataframe\">\n",
              "  <thead>\n",
              "    <tr style=\"text-align: right;\">\n",
              "      <th></th>\n",
              "      <th>tutorial/feature.low-carbon-fuels</th>\n",
              "      <th>tutorial/feature.carbon-actual</th>\n",
              "    </tr>\n",
              "  </thead>\n",
              "  <tbody>\n",
              "    <tr>\n",
              "      <th>2021-01-01 00:00:00</th>\n",
              "      <td>48.5</td>\n",
              "      <td>187.0</td>\n",
              "    </tr>\n",
              "    <tr>\n",
              "      <th>2021-01-01 01:00:00</th>\n",
              "      <td>48.6</td>\n",
              "      <td>178.0</td>\n",
              "    </tr>\n",
              "    <tr>\n",
              "      <th>2021-01-01 02:00:00</th>\n",
              "      <td>51.3</td>\n",
              "      <td>167.0</td>\n",
              "    </tr>\n",
              "    <tr>\n",
              "      <th>2021-01-01 03:00:00</th>\n",
              "      <td>52.6</td>\n",
              "      <td>164.0</td>\n",
              "    </tr>\n",
              "    <tr>\n",
              "      <th>2021-01-01 04:00:00</th>\n",
              "      <td>54.9</td>\n",
              "      <td>155.0</td>\n",
              "    </tr>\n",
              "  </tbody>\n",
              "</table>\n",
              "</div>"
            ],
            "text/plain": [
              "                     tutorial/feature.low-carbon-fuels  tutorial/feature.carbon-actual\n",
              "2021-01-01 00:00:00                               48.5                           187.0\n",
              "2021-01-01 01:00:00                               48.6                           178.0\n",
              "2021-01-01 02:00:00                               51.3                           167.0\n",
              "2021-01-01 03:00:00                               52.6                           164.0\n",
              "2021-01-01 04:00:00                               54.9                           155.0"
            ]
          },
          "metadata": {
            "tags": []
          },
          "execution_count": 13
        }
      ]
    },
    {
      "cell_type": "code",
      "metadata": {
        "colab": {
          "base_uri": "https://localhost:8080/",
          "height": 497
        },
        "id": "hx-i6KPH3loy",
        "outputId": "1473d79b-de47-4f16-c012-85be98c2101c"
      },
      "source": [
        "_ = df_prepared_data.plot.scatter(x='tutorial/feature.low-carbon-fuels', y='tutorial/feature.carbon-actual', figsize=(16, 8), grid=True)"
      ],
      "execution_count": 14,
      "outputs": [
        {
          "output_type": "display_data",
          "data": {
            "image/png": "[encoded data removed]",
            "text/plain": [
              "<Figure size 1152x576 with 1 Axes>"
            ]
          },
          "metadata": {
            "tags": [],
            "needs_background": "light"
          }
        }
      ]
    }
  ]
}