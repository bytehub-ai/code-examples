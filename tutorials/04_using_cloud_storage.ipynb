{
  "nbformat": 4,
  "nbformat_minor": 0,
  "metadata": {
    "colab": {
      "name": "04-using-cloud-storage.ipynb",
      "provenance": [],
      "include_colab_link": true
    },
    "kernelspec": {
      "display_name": "Python 3",
      "language": "python",
      "name": "python3"
    },
    "language_info": {
      "codemirror_mode": {
        "name": "ipython",
        "version": 3
      },
      "file_extension": ".py",
      "mimetype": "text/x-python",
      "name": "python",
      "nbconvert_exporter": "python",
      "pygments_lexer": "ipython3",
      "version": "3.7.3"
    }
  },
  "cells": [
    {
      "cell_type": "markdown",
      "metadata": {
        "id": "view-in-github",
        "colab_type": "text"
      },
      "source": [
        "<a href=\"https://colab.research.google.com/github/bytehub-ai/code-examples/blob/main/tutorials/04_using_cloud_storage.ipynb\" target=\"_parent\"><img src=\"https://colab.research.google.com/assets/colab-badge.svg\" alt=\"Open In Colab\"/></a>"
      ]
    },
    {
      "cell_type": "markdown",
      "metadata": {
        "id": "V8SbSvfK9HLl"
      },
      "source": [
        "# Using cloud storage buckets\n",
        "\n",
        "ByteHub is built on [Dask](https://docs.dask.org/en/latest/), which includes utilities for saving/loading data onto cloud-based storage services such as [AWS S3](https://aws.amazon.com/s3/), [Azure Blob](https://azure.microsoft.com/en-gb/services/storage/blobs/), [GCP Cloud Storage](https://cloud.google.com/storage)."
      ]
    },
    {
      "cell_type": "markdown",
      "metadata": {
        "id": "p8dnZ5kjkJp7"
      },
      "source": [
        "## AWS\n",
        "\n",
        "This tutorial demonstrates how to save feature data onto AWS S3. Start by installing ByteHub with the `aws` option."
      ]
    },
    {
      "cell_type": "code",
      "metadata": {
        "id": "cJfqte908-kh"
      },
      "source": [
        "!pip install -q bytehub[aws]"
      ],
      "execution_count": 1,
      "outputs": []
    },
    {
      "cell_type": "code",
      "metadata": {
        "colab": {
          "base_uri": "https://localhost:8080/"
        },
        "id": "r3M6oSUb9Ykp",
        "outputId": "cd84fd1e-5cca-48bc-aab6-271463ef5e5b"
      },
      "source": [
        "import pandas as pd\n",
        "import numpy as np\n",
        "import os\n",
        "import shutil\n",
        "import bytehub as bh\n",
        "print(f'ByteHub version {bh.__version__}')"
      ],
      "execution_count": 2,
      "outputs": [
        {
          "output_type": "stream",
          "text": [
            "ByteHub version 0.3.3\n"
          ],
          "name": "stdout"
        }
      ]
    },
    {
      "cell_type": "code",
      "metadata": {
        "id": "pmMPr2SZ98iN"
      },
      "source": [
        "# Remove any previously created feature stores\n",
        "try:\n",
        "    os.remove('bytehub.db')\n",
        "except FileNotFoundError:\n",
        "    pass\n",
        "try:\n",
        "    shutil.rmtree('/tmp/featurestore/tutorial')\n",
        "except FileNotFoundError:\n",
        "    pass"
      ],
      "execution_count": 3,
      "outputs": []
    },
    {
      "cell_type": "markdown",
      "metadata": {
        "id": "XayYt1Yq9WPx"
      },
      "source": [
        "Create a new featurestore - this will be stored in a local sqlite database named `bytehub.db`."
      ]
    },
    {
      "cell_type": "code",
      "metadata": {
        "id": "qWVg7Sg9-Hy3"
      },
      "source": [
        "fs = bh.FeatureStore()"
      ],
      "execution_count": 4,
      "outputs": []
    },
    {
      "cell_type": "markdown",
      "metadata": {
        "id": "OTE-f8fa-iy3"
      },
      "source": [
        "Next we need to create a namespace within the feature store that will allow us to save data to S3. [Follow this guide](https://medium.com/@shamnad.p.s/how-to-create-an-s3-bucket-and-aws-access-key-id-and-secret-access-key-for-accessing-it-5653b6e54337) to create an S3 storage bucket and access keys, then configure them in the cell below."
      ]
    },
    {
      "cell_type": "code",
      "metadata": {
        "id": "JI-1BcypH_Nl"
      },
      "source": [
        "#@title Configure S3 bucket\n",
        "bucket_name = \"bytehub-demo\" #@param {type:\"string\"}"
      ],
      "execution_count": 5,
      "outputs": []
    },
    {
      "cell_type": "code",
      "metadata": {
        "colab": {
          "base_uri": "https://localhost:8080/"
        },
        "id": "lhKJiyUfJKqh",
        "outputId": "2ffcb92e-a1cd-4800-b08d-c8d6b0f2319b"
      },
      "source": [
        "from getpass import getpass\n",
        "print('Input AWS access key ID:')\n",
        "aws_access_key_id = getpass()\n",
        "print('Input AWS secret access key:')\n",
        "aws_secret_access_key = getpass()"
      ],
      "execution_count": null,
      "outputs": [
        {
          "output_type": "stream",
          "text": [
            "Input AWS access key ID:\n",
            "··········\n",
            "Input AWS secret access key:\n",
            "··········\n"
          ],
          "name": "stdout"
        }
      ]
    },
    {
      "cell_type": "code",
      "metadata": {
        "id": "ubaeuZ-3-TR_"
      },
      "source": [
        "# Create the namespace on the AWS storage bucket\n",
        "fs.create_namespace(\n",
        "    's3-demo',\n",
        "    url=f's3://{bucket_name}/demo',\n",
        "    description='S3 tutorial',\n",
        "    storage_options={\n",
        "        'key': aws_access_key_id, 'secret': aws_secret_access_key, 'use_ssl': True\n",
        "    }\n",
        ")"
      ],
      "execution_count": null,
      "outputs": []
    },
    {
      "cell_type": "markdown",
      "metadata": {
        "id": "Mc_guMcP-mYS"
      },
      "source": [
        "For details on how to configure for other cloud platforms see [here](https://docs.dask.org/en/latest/remote-data-services.html#amazon-s3).\n",
        "\n",
        "Now create a feature in this namespace."
      ]
    },
    {
      "cell_type": "code",
      "metadata": {
        "id": "Jafz50eZ-qDD"
      },
      "source": [
        "fs.create_feature('s3-demo/numbers', description='Timeseries of random numbers')"
      ],
      "execution_count": null,
      "outputs": []
    },
    {
      "cell_type": "markdown",
      "metadata": {
        "id": "J55q7n_H-1_M"
      },
      "source": [
        "Now we can generate a Pandas dataframe with time and value columns to store."
      ]
    },
    {
      "cell_type": "code",
      "metadata": {
        "colab": {
          "base_uri": "https://localhost:8080/",
          "height": 204
        },
        "id": "OKo2F1nx-ufl",
        "outputId": "ef3c66a7-d032-4970-f328-4b205a275792"
      },
      "source": [
        "dts = pd.date_range('2020-01-01', '2021-02-09')\n",
        "df = pd.DataFrame({'time': dts, 'value': np.random.randn(len(dts))})\n",
        "\n",
        "df.head()"
      ],
      "execution_count": null,
      "outputs": [
        {
          "output_type": "execute_result",
          "data": {
            "text/html": [
              "<div>\n",
              "<style scoped>\n",
              "    .dataframe tbody tr th:only-of-type {\n",
              "        vertical-align: middle;\n",
              "    }\n",
              "\n",
              "    .dataframe tbody tr th {\n",
              "        vertical-align: top;\n",
              "    }\n",
              "\n",
              "    .dataframe thead th {\n",
              "        text-align: right;\n",
              "    }\n",
              "</style>\n",
              "<table border=\"1\" class=\"dataframe\">\n",
              "  <thead>\n",
              "    <tr style=\"text-align: right;\">\n",
              "      <th></th>\n",
              "      <th>time</th>\n",
              "      <th>value</th>\n",
              "    </tr>\n",
              "  </thead>\n",
              "  <tbody>\n",
              "    <tr>\n",
              "      <th>0</th>\n",
              "      <td>2020-01-01</td>\n",
              "      <td>0.491179</td>\n",
              "    </tr>\n",
              "    <tr>\n",
              "      <th>1</th>\n",
              "      <td>2020-01-02</td>\n",
              "      <td>1.282287</td>\n",
              "    </tr>\n",
              "    <tr>\n",
              "      <th>2</th>\n",
              "      <td>2020-01-03</td>\n",
              "      <td>-0.719213</td>\n",
              "    </tr>\n",
              "    <tr>\n",
              "      <th>3</th>\n",
              "      <td>2020-01-04</td>\n",
              "      <td>1.268211</td>\n",
              "    </tr>\n",
              "    <tr>\n",
              "      <th>4</th>\n",
              "      <td>2020-01-05</td>\n",
              "      <td>1.309990</td>\n",
              "    </tr>\n",
              "  </tbody>\n",
              "</table>\n",
              "</div>"
            ],
            "text/plain": [
              "        time     value\n",
              "0 2020-01-01  0.491179\n",
              "1 2020-01-02  1.282287\n",
              "2 2020-01-03 -0.719213\n",
              "3 2020-01-04  1.268211\n",
              "4 2020-01-05  1.309990"
            ]
          },
          "metadata": {
            "tags": []
          },
          "execution_count": 20
        }
      ]
    },
    {
      "cell_type": "code",
      "metadata": {
        "id": "E-LHnWF1-7CN"
      },
      "source": [
        "fs.save_dataframe(df, 's3-demo/numbers')"
      ],
      "execution_count": null,
      "outputs": []
    },
    {
      "cell_type": "markdown",
      "metadata": {
        "id": "_trP2E0fNnLU"
      },
      "source": [
        "This data is now stored in the cloud storage bucket. The underlying files can be viewed in the [AWS console](https://s3.console.aws.amazon.com/s3/home)."
      ]
    },
    {
      "cell_type": "code",
      "metadata": {
        "colab": {
          "base_uri": "https://localhost:8080/",
          "height": 235
        },
        "id": "Er1qr0W1M1Nh",
        "outputId": "c6f4689a-aa54-4ce4-c440-c3fdd62d8160"
      },
      "source": [
        "# Query the data\n",
        "result = fs.load_dataframe('s3-demo/numbers')\n",
        "result.head()"
      ],
      "execution_count": null,
      "outputs": [
        {
          "output_type": "execute_result",
          "data": {
            "text/html": [
              "<div>\n",
              "<style scoped>\n",
              "    .dataframe tbody tr th:only-of-type {\n",
              "        vertical-align: middle;\n",
              "    }\n",
              "\n",
              "    .dataframe tbody tr th {\n",
              "        vertical-align: top;\n",
              "    }\n",
              "\n",
              "    .dataframe thead th {\n",
              "        text-align: right;\n",
              "    }\n",
              "</style>\n",
              "<table border=\"1\" class=\"dataframe\">\n",
              "  <thead>\n",
              "    <tr style=\"text-align: right;\">\n",
              "      <th></th>\n",
              "      <th>s3-demo/numbers</th>\n",
              "    </tr>\n",
              "    <tr>\n",
              "      <th>time</th>\n",
              "      <th></th>\n",
              "    </tr>\n",
              "  </thead>\n",
              "  <tbody>\n",
              "    <tr>\n",
              "      <th>2020-01-01</th>\n",
              "      <td>0.491179</td>\n",
              "    </tr>\n",
              "    <tr>\n",
              "      <th>2020-01-02</th>\n",
              "      <td>1.282287</td>\n",
              "    </tr>\n",
              "    <tr>\n",
              "      <th>2020-01-03</th>\n",
              "      <td>-0.719213</td>\n",
              "    </tr>\n",
              "    <tr>\n",
              "      <th>2020-01-04</th>\n",
              "      <td>1.268211</td>\n",
              "    </tr>\n",
              "    <tr>\n",
              "      <th>2020-01-05</th>\n",
              "      <td>1.309990</td>\n",
              "    </tr>\n",
              "  </tbody>\n",
              "</table>\n",
              "</div>"
            ],
            "text/plain": [
              "            s3-demo/numbers\n",
              "time                       \n",
              "2020-01-01         0.491179\n",
              "2020-01-02         1.282287\n",
              "2020-01-03        -0.719213\n",
              "2020-01-04         1.268211\n",
              "2020-01-05         1.309990"
            ]
          },
          "metadata": {
            "tags": []
          },
          "execution_count": 22
        }
      ]
    },
    {
      "cell_type": "code",
      "metadata": {
        "id": "88drzcj7MjlX"
      },
      "source": [
        "# Delete the data saved in the tutorial\n",
        "fs.delete_feature('s3-demo/numbers', delete_data=True) # delete_data will remove the data from S3"
      ],
      "execution_count": null,
      "outputs": []
    },
    {
      "cell_type": "markdown",
      "metadata": {
        "id": "79kYIG4kkopx"
      },
      "source": [
        "## GCP\n",
        "\n",
        "In this section we'll demonstrate Google Cloud storage. Install the required dependencies using the `gcp` option."
      ]
    },
    {
      "cell_type": "code",
      "metadata": {
        "id": "Gy_mXgq2kzmn"
      },
      "source": [
        "!pip install -q bytehub[gcp]"
      ],
      "execution_count": 5,
      "outputs": []
    },
    {
      "cell_type": "markdown",
      "metadata": {
        "id": "zOAZ_-52k7PG"
      },
      "source": [
        "Now setup a namespace on a Google Cloud storage bucket. Authenticate using the interative login below, or alternatively you will to go to the IAM console, create a [service account](https://console.cloud.google.com/iam-admin/serviceaccounts/) with permissions to use the storage bucket, then download keys for this account in JSON format. Supply the credentials to the `token` field in `storage_options`."
      ]
    },
    {
      "cell_type": "code",
      "metadata": {
        "id": "IMDRN2gJk4AV"
      },
      "source": [
        "#@title Configure S3 bucket and project name\n",
        "bucket_name = \"bytehub-demo\" #@param {type:\"string\"}\n",
        "project_name = \"bytehub\" #@param {type:\"string\"}"
      ],
      "execution_count": 6,
      "outputs": []
    },
    {
      "cell_type": "code",
      "metadata": {
        "id": "o58sPL0ylHJH"
      },
      "source": [
        "def get_gcsfs(project_name):\n",
        "    import gcsfs\n",
        "    import google\n",
        "    import json\n",
        "\n",
        "    google.colab.auth.authenticate_user()\n",
        "    creds, project = google.auth.default()\n",
        "\n",
        "    gcs = gcsfs.GCSFileSystem(token=creds, project=project_name)\n",
        "\n",
        "    return json.loads(gcs.credentials.to_json())"
      ],
      "execution_count": 8,
      "outputs": []
    },
    {
      "cell_type": "markdown",
      "metadata": {
        "id": "wD685VVrm1_x"
      },
      "source": [
        "Authenticate to GCP using the cell below - we'll use the credentials when setting up the namespace."
      ]
    },
    {
      "cell_type": "code",
      "metadata": {
        "id": "V_YLPn1qmtpp"
      },
      "source": [
        "token = get_gcsfs(project_name)"
      ],
      "execution_count": 9,
      "outputs": []
    },
    {
      "cell_type": "code",
      "metadata": {
        "id": "93b2Tlvgm8cX"
      },
      "source": [
        "# Create the namespace on the GCP storage bucket\n",
        "fs.create_namespace(\n",
        "    'gcp-demo',\n",
        "    url=f'gs://{bucket_name}/demo',\n",
        "    description='GCP tutorial',\n",
        "    storage_options={\n",
        "        # Alternatively `token` could be the contents of the JSON key file\n",
        "        'token': token\n",
        "    }\n",
        ")"
      ],
      "execution_count": 10,
      "outputs": []
    },
    {
      "cell_type": "markdown",
      "metadata": {
        "id": "Siu3aylHnOS6"
      },
      "source": [
        "Now create a feature in this namespace and insert a dataframe"
      ]
    },
    {
      "cell_type": "code",
      "metadata": {
        "id": "O_aSxErJnKaa"
      },
      "source": [
        "fs.create_feature('gcp-demo/numbers', description='Timeseries of random numbers')"
      ],
      "execution_count": 11,
      "outputs": []
    },
    {
      "cell_type": "code",
      "metadata": {
        "id": "iQ1tlkgDnSsp",
        "outputId": "1f1b3f42-154e-4553-d94b-2500335d2a50",
        "colab": {
          "base_uri": "https://localhost:8080/",
          "height": 204
        }
      },
      "source": [
        "dts = pd.date_range('2020-01-01', '2020-02-09')\n",
        "df = pd.DataFrame({'time': dts, 'value': np.random.randn(len(dts))})\n",
        "\n",
        "df.head()"
      ],
      "execution_count": 12,
      "outputs": [
        {
          "output_type": "execute_result",
          "data": {
            "text/html": [
              "<div>\n",
              "<style scoped>\n",
              "    .dataframe tbody tr th:only-of-type {\n",
              "        vertical-align: middle;\n",
              "    }\n",
              "\n",
              "    .dataframe tbody tr th {\n",
              "        vertical-align: top;\n",
              "    }\n",
              "\n",
              "    .dataframe thead th {\n",
              "        text-align: right;\n",
              "    }\n",
              "</style>\n",
              "<table border=\"1\" class=\"dataframe\">\n",
              "  <thead>\n",
              "    <tr style=\"text-align: right;\">\n",
              "      <th></th>\n",
              "      <th>time</th>\n",
              "      <th>value</th>\n",
              "    </tr>\n",
              "  </thead>\n",
              "  <tbody>\n",
              "    <tr>\n",
              "      <th>0</th>\n",
              "      <td>2020-01-01</td>\n",
              "      <td>-1.511410</td>\n",
              "    </tr>\n",
              "    <tr>\n",
              "      <th>1</th>\n",
              "      <td>2020-01-02</td>\n",
              "      <td>-0.618672</td>\n",
              "    </tr>\n",
              "    <tr>\n",
              "      <th>2</th>\n",
              "      <td>2020-01-03</td>\n",
              "      <td>-0.618044</td>\n",
              "    </tr>\n",
              "    <tr>\n",
              "      <th>3</th>\n",
              "      <td>2020-01-04</td>\n",
              "      <td>-1.990424</td>\n",
              "    </tr>\n",
              "    <tr>\n",
              "      <th>4</th>\n",
              "      <td>2020-01-05</td>\n",
              "      <td>-0.388601</td>\n",
              "    </tr>\n",
              "  </tbody>\n",
              "</table>\n",
              "</div>"
            ],
            "text/plain": [
              "        time     value\n",
              "0 2020-01-01 -1.511410\n",
              "1 2020-01-02 -0.618672\n",
              "2 2020-01-03 -0.618044\n",
              "3 2020-01-04 -1.990424\n",
              "4 2020-01-05 -0.388601"
            ]
          },
          "metadata": {
            "tags": []
          },
          "execution_count": 12
        }
      ]
    },
    {
      "cell_type": "code",
      "metadata": {
        "id": "bwfZ3BKDnXRi"
      },
      "source": [
        "fs.save_dataframe(df, 'gcp-demo/numbers')"
      ],
      "execution_count": 13,
      "outputs": []
    },
    {
      "cell_type": "markdown",
      "metadata": {
        "id": "HpHXsRVHprLD"
      },
      "source": [
        "The data is now stored on GCP. Read it back as follows:"
      ]
    },
    {
      "cell_type": "code",
      "metadata": {
        "id": "tTDLfH44pwiV",
        "outputId": "65362aad-63e3-40bd-a3a4-69973d803fe0",
        "colab": {
          "base_uri": "https://localhost:8080/",
          "height": 235
        }
      },
      "source": [
        "# Query the data\n",
        "result = fs.load_dataframe('gcp-demo/numbers')\n",
        "result.head()"
      ],
      "execution_count": 14,
      "outputs": [
        {
          "output_type": "execute_result",
          "data": {
            "text/html": [
              "<div>\n",
              "<style scoped>\n",
              "    .dataframe tbody tr th:only-of-type {\n",
              "        vertical-align: middle;\n",
              "    }\n",
              "\n",
              "    .dataframe tbody tr th {\n",
              "        vertical-align: top;\n",
              "    }\n",
              "\n",
              "    .dataframe thead th {\n",
              "        text-align: right;\n",
              "    }\n",
              "</style>\n",
              "<table border=\"1\" class=\"dataframe\">\n",
              "  <thead>\n",
              "    <tr style=\"text-align: right;\">\n",
              "      <th></th>\n",
              "      <th>gcp-demo/numbers</th>\n",
              "    </tr>\n",
              "    <tr>\n",
              "      <th>time</th>\n",
              "      <th></th>\n",
              "    </tr>\n",
              "  </thead>\n",
              "  <tbody>\n",
              "    <tr>\n",
              "      <th>2020-01-01</th>\n",
              "      <td>-1.511410</td>\n",
              "    </tr>\n",
              "    <tr>\n",
              "      <th>2020-01-02</th>\n",
              "      <td>-0.618672</td>\n",
              "    </tr>\n",
              "    <tr>\n",
              "      <th>2020-01-03</th>\n",
              "      <td>-0.618044</td>\n",
              "    </tr>\n",
              "    <tr>\n",
              "      <th>2020-01-04</th>\n",
              "      <td>-1.990424</td>\n",
              "    </tr>\n",
              "    <tr>\n",
              "      <th>2020-01-05</th>\n",
              "      <td>-0.388601</td>\n",
              "    </tr>\n",
              "  </tbody>\n",
              "</table>\n",
              "</div>"
            ],
            "text/plain": [
              "            gcp-demo/numbers\n",
              "time                        \n",
              "2020-01-01         -1.511410\n",
              "2020-01-02         -0.618672\n",
              "2020-01-03         -0.618044\n",
              "2020-01-04         -1.990424\n",
              "2020-01-05         -0.388601"
            ]
          },
          "metadata": {
            "tags": []
          },
          "execution_count": 14
        }
      ]
    }
  ]
}