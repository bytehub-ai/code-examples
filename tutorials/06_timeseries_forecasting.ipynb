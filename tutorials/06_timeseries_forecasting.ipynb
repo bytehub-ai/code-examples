{
  "nbformat": 4,
  "nbformat_minor": 0,
  "metadata": {
    "colab": {
      "name": "06-timeseries-forecasting.ipynb",
      "provenance": [],
      "collapsed_sections": [],
      "authorship_tag": "ABX9TyMz8xY3QTJrSw+JPeQwz+1W",
      "include_colab_link": true
    },
    "kernelspec": {
      "name": "python3",
      "display_name": "Python 3"
    },
    "accelerator": "GPU"
  },
  "cells": [
    {
      "cell_type": "markdown",
      "metadata": {
        "id": "view-in-github",
        "colab_type": "text"
      },
      "source": [
        "<a href=\"https://colab.research.google.com/github/bytehub-ai/code-examples/blob/main/tutorials/06_timeseries_forecasting.ipynb\" target=\"_parent\"><img src=\"https://colab.research.google.com/assets/colab-badge.svg\" alt=\"Open In Colab\"/></a>"
      ]
    },
    {
      "cell_type": "markdown",
      "metadata": {
        "id": "V8SbSvfK9HLl"
      },
      "source": [
        "# ByteHub Feature Store: Timeseries forecasting example\n",
        "\n",
        "This notebook demo shows how a feature store can simplify a timeseries forecasting project. This example is based on Tensorflow's [timeseries forecasting tutorial](https://www.tensorflow.org/tutorials/structured_data/time_series), using a [weather dataset](https://www.bgc-jena.mpg.de/wetter/) from the [Max Planck Institute for Biogeochemistry](https://www.bgc-jena.mpg.de/).\n"
      ]
    },
    {
      "cell_type": "code",
      "metadata": {
        "id": "cJfqte908-kh",
        "outputId": "2cb70ec8-60a9-4a94-e99f-a87e37e2dc65",
        "colab": {
          "base_uri": "https://localhost:8080/"
        }
      },
      "source": [
        "!pip install -q bytehub"
      ],
      "execution_count": 1,
      "outputs": [
        {
          "output_type": "stream",
          "text": [
            "\u001b[K     |████████████████████████████████| 163kB 12.3MB/s \n",
            "\u001b[K     |████████████████████████████████| 942kB 16.0MB/s \n",
            "\u001b[K     |████████████████████████████████| 81kB 8.7MB/s \n",
            "\u001b[K     |████████████████████████████████| 112kB 40.9MB/s \n",
            "\u001b[?25h"
          ],
          "name": "stdout"
        }
      ]
    },
    {
      "cell_type": "code",
      "metadata": {
        "colab": {
          "base_uri": "https://localhost:8080/"
        },
        "id": "r3M6oSUb9Ykp",
        "outputId": "e0463000-fba2-48f3-be11-1f5cc8ad48ed"
      },
      "source": [
        "import pandas as pd\n",
        "import numpy as np\n",
        "import os\n",
        "import shutil\n",
        "import bytehub as bh\n",
        "import tensorflow as tf\n",
        "from datetime import datetime\n",
        "print(f'ByteHub version {bh.__version__}')"
      ],
      "execution_count": 2,
      "outputs": [
        {
          "output_type": "stream",
          "text": [
            "ByteHub version 0.4.0\n"
          ],
          "name": "stdout"
        }
      ]
    },
    {
      "cell_type": "code",
      "metadata": {
        "id": "pmMPr2SZ98iN"
      },
      "source": [
        "# Remove any previously created feature stores\n",
        "try:\n",
        "    os.remove('bytehub.db')\n",
        "except FileNotFoundError:\n",
        "    pass\n",
        "try:\n",
        "    shutil.rmtree('/tmp/featurestore/tutorial')\n",
        "except FileNotFoundError:\n",
        "    pass"
      ],
      "execution_count": 3,
      "outputs": []
    },
    {
      "cell_type": "markdown",
      "metadata": {
        "id": "XayYt1Yq9WPx"
      },
      "source": [
        "Create a new featurestore - this will be stored in a local sqlite database named `bytehub.db`."
      ]
    },
    {
      "cell_type": "code",
      "metadata": {
        "id": "qWVg7Sg9-Hy3",
        "outputId": "a38142c7-c759-4e6f-8003-6ad4912fcfb3",
        "colab": {
          "base_uri": "https://localhost:8080/"
        }
      },
      "source": [
        "fs = bh.FeatureStore()"
      ],
      "execution_count": 4,
      "outputs": [
        {
          "output_type": "stream",
          "text": [
            "Upgrading ByteHub database schema...\n"
          ],
          "name": "stdout"
        }
      ]
    },
    {
      "cell_type": "markdown",
      "metadata": {
        "id": "OTE-f8fa-iy3"
      },
      "source": [
        "Next, create a namespace called `tutorial` to store some features in. Edit the url field to specify a local file storage location that you would like to use. Feature values will be saved within this folder using parquet format."
      ]
    },
    {
      "cell_type": "code",
      "metadata": {
        "id": "ubaeuZ-3-TR_"
      },
      "source": [
        "fs.create_namespace(\n",
        "    'tutorial', url='/tmp/featurestore/tutorial', description='Timeseries forecasting tutorial'\n",
        ")"
      ],
      "execution_count": 5,
      "outputs": []
    },
    {
      "cell_type": "markdown",
      "metadata": {
        "id": "DPb_D05eC_dA"
      },
      "source": [
        "## Loading raw data\n",
        "\n",
        "Fetch the weather dataset and load it to the feature store."
      ]
    },
    {
      "cell_type": "code",
      "metadata": {
        "id": "_GkmupzeyuxD",
        "outputId": "e4f74bac-f6b1-4295-9893-ba5c6ebeeea6",
        "colab": {
          "base_uri": "https://localhost:8080/"
        }
      },
      "source": [
        "zip_path = tf.keras.utils.get_file(\n",
        "    origin='https://storage.googleapis.com/tensorflow/tf-keras-datasets/jena_climate_2009_2016.csv.zip',\n",
        "    fname='jena_climate_2009_2016.csv.zip',\n",
        "    extract=True)\n",
        "csv_path, _ = os.path.splitext(zip_path)"
      ],
      "execution_count": 6,
      "outputs": [
        {
          "output_type": "stream",
          "text": [
            "Downloading data from https://storage.googleapis.com/tensorflow/tf-keras-datasets/jena_climate_2009_2016.csv.zip\n",
            "13574144/13568290 [==============================] - 0s 0us/step\n"
          ],
          "name": "stdout"
        }
      ]
    },
    {
      "cell_type": "code",
      "metadata": {
        "colab": {
          "base_uri": "https://localhost:8080/",
          "height": 204
        },
        "id": "ybtSrB3dC1Zr",
        "outputId": "a9268b0b-7edd-4ee3-a8c6-831af7ee3cb0"
      },
      "source": [
        "df = pd.read_csv(csv_path)\n",
        "df.head()"
      ],
      "execution_count": 7,
      "outputs": [
        {
          "output_type": "execute_result",
          "data": {
            "text/html": [
              "<div>\n",
              "<style scoped>\n",
              "    .dataframe tbody tr th:only-of-type {\n",
              "        vertical-align: middle;\n",
              "    }\n",
              "\n",
              "    .dataframe tbody tr th {\n",
              "        vertical-align: top;\n",
              "    }\n",
              "\n",
              "    .dataframe thead th {\n",
              "        text-align: right;\n",
              "    }\n",
              "</style>\n",
              "<table border=\"1\" class=\"dataframe\">\n",
              "  <thead>\n",
              "    <tr style=\"text-align: right;\">\n",
              "      <th></th>\n",
              "      <th>Date Time</th>\n",
              "      <th>p (mbar)</th>\n",
              "      <th>T (degC)</th>\n",
              "      <th>Tpot (K)</th>\n",
              "      <th>Tdew (degC)</th>\n",
              "      <th>rh (%)</th>\n",
              "      <th>VPmax (mbar)</th>\n",
              "      <th>VPact (mbar)</th>\n",
              "      <th>VPdef (mbar)</th>\n",
              "      <th>sh (g/kg)</th>\n",
              "      <th>H2OC (mmol/mol)</th>\n",
              "      <th>rho (g/m**3)</th>\n",
              "      <th>wv (m/s)</th>\n",
              "      <th>max. wv (m/s)</th>\n",
              "      <th>wd (deg)</th>\n",
              "    </tr>\n",
              "  </thead>\n",
              "  <tbody>\n",
              "    <tr>\n",
              "      <th>0</th>\n",
              "      <td>01.01.2009 00:10:00</td>\n",
              "      <td>996.52</td>\n",
              "      <td>-8.02</td>\n",
              "      <td>265.40</td>\n",
              "      <td>-8.90</td>\n",
              "      <td>93.3</td>\n",
              "      <td>3.33</td>\n",
              "      <td>3.11</td>\n",
              "      <td>0.22</td>\n",
              "      <td>1.94</td>\n",
              "      <td>3.12</td>\n",
              "      <td>1307.75</td>\n",
              "      <td>1.03</td>\n",
              "      <td>1.75</td>\n",
              "      <td>152.3</td>\n",
              "    </tr>\n",
              "    <tr>\n",
              "      <th>1</th>\n",
              "      <td>01.01.2009 00:20:00</td>\n",
              "      <td>996.57</td>\n",
              "      <td>-8.41</td>\n",
              "      <td>265.01</td>\n",
              "      <td>-9.28</td>\n",
              "      <td>93.4</td>\n",
              "      <td>3.23</td>\n",
              "      <td>3.02</td>\n",
              "      <td>0.21</td>\n",
              "      <td>1.89</td>\n",
              "      <td>3.03</td>\n",
              "      <td>1309.80</td>\n",
              "      <td>0.72</td>\n",
              "      <td>1.50</td>\n",
              "      <td>136.1</td>\n",
              "    </tr>\n",
              "    <tr>\n",
              "      <th>2</th>\n",
              "      <td>01.01.2009 00:30:00</td>\n",
              "      <td>996.53</td>\n",
              "      <td>-8.51</td>\n",
              "      <td>264.91</td>\n",
              "      <td>-9.31</td>\n",
              "      <td>93.9</td>\n",
              "      <td>3.21</td>\n",
              "      <td>3.01</td>\n",
              "      <td>0.20</td>\n",
              "      <td>1.88</td>\n",
              "      <td>3.02</td>\n",
              "      <td>1310.24</td>\n",
              "      <td>0.19</td>\n",
              "      <td>0.63</td>\n",
              "      <td>171.6</td>\n",
              "    </tr>\n",
              "    <tr>\n",
              "      <th>3</th>\n",
              "      <td>01.01.2009 00:40:00</td>\n",
              "      <td>996.51</td>\n",
              "      <td>-8.31</td>\n",
              "      <td>265.12</td>\n",
              "      <td>-9.07</td>\n",
              "      <td>94.2</td>\n",
              "      <td>3.26</td>\n",
              "      <td>3.07</td>\n",
              "      <td>0.19</td>\n",
              "      <td>1.92</td>\n",
              "      <td>3.08</td>\n",
              "      <td>1309.19</td>\n",
              "      <td>0.34</td>\n",
              "      <td>0.50</td>\n",
              "      <td>198.0</td>\n",
              "    </tr>\n",
              "    <tr>\n",
              "      <th>4</th>\n",
              "      <td>01.01.2009 00:50:00</td>\n",
              "      <td>996.51</td>\n",
              "      <td>-8.27</td>\n",
              "      <td>265.15</td>\n",
              "      <td>-9.04</td>\n",
              "      <td>94.1</td>\n",
              "      <td>3.27</td>\n",
              "      <td>3.08</td>\n",
              "      <td>0.19</td>\n",
              "      <td>1.92</td>\n",
              "      <td>3.09</td>\n",
              "      <td>1309.00</td>\n",
              "      <td>0.32</td>\n",
              "      <td>0.63</td>\n",
              "      <td>214.3</td>\n",
              "    </tr>\n",
              "  </tbody>\n",
              "</table>\n",
              "</div>"
            ],
            "text/plain": [
              "             Date Time  p (mbar)  T (degC)  ...  wv (m/s)  max. wv (m/s)  wd (deg)\n",
              "0  01.01.2009 00:10:00    996.52     -8.02  ...      1.03           1.75     152.3\n",
              "1  01.01.2009 00:20:00    996.57     -8.41  ...      0.72           1.50     136.1\n",
              "2  01.01.2009 00:30:00    996.53     -8.51  ...      0.19           0.63     171.6\n",
              "3  01.01.2009 00:40:00    996.51     -8.31  ...      0.34           0.50     198.0\n",
              "4  01.01.2009 00:50:00    996.51     -8.27  ...      0.32           0.63     214.3\n",
              "\n",
              "[5 rows x 15 columns]"
            ]
          },
          "metadata": {
            "tags": []
          },
          "execution_count": 7
        }
      ]
    },
    {
      "cell_type": "code",
      "metadata": {
        "id": "cAEMznKSxNwm"
      },
      "source": [
        "# Create ByteHub features and timestamp index\n",
        "df = df.rename(columns={'Date Time': 'time'})\n",
        "df = df.assign(time=df['time'].apply(lambda x: datetime.strptime(x, '%d.%m.%Y %H:%M:%S'))).set_index('time')\n",
        "for col in df.columns:\n",
        "  name = 'raw.' + ''.join(col.split(' ')[:-1])\n",
        "  unit = col.split(' ')[-1][1:-1]\n",
        "  df = df.rename(columns={col: 'tutorial/' + name})\n",
        "  # Use feature metadata to store the unit information\n",
        "  fs.create_feature('tutorial/' + name, partition='year', meta={'unit': unit})\n",
        "# Save data to feature store\n",
        "fs.save_dataframe(df)"
      ],
      "execution_count": 8,
      "outputs": []
    },
    {
      "cell_type": "code",
      "metadata": {
        "colab": {
          "base_uri": "https://localhost:8080/",
          "height": 483
        },
        "id": "GfzXh6we-ZpF",
        "outputId": "ce21c9b7-2111-49c3-c0bd-6c5644944b98"
      },
      "source": [
        "fs.list_features()"
      ],
      "execution_count": 9,
      "outputs": [
        {
          "output_type": "execute_result",
          "data": {
            "text/html": [
              "<div>\n",
              "<style scoped>\n",
              "    .dataframe tbody tr th:only-of-type {\n",
              "        vertical-align: middle;\n",
              "    }\n",
              "\n",
              "    .dataframe tbody tr th {\n",
              "        vertical-align: top;\n",
              "    }\n",
              "\n",
              "    .dataframe thead th {\n",
              "        text-align: right;\n",
              "    }\n",
              "</style>\n",
              "<table border=\"1\" class=\"dataframe\">\n",
              "  <thead>\n",
              "    <tr style=\"text-align: right;\">\n",
              "      <th></th>\n",
              "      <th>namespace</th>\n",
              "      <th>name</th>\n",
              "      <th>version</th>\n",
              "      <th>description</th>\n",
              "      <th>meta</th>\n",
              "      <th>partition</th>\n",
              "      <th>serialized</th>\n",
              "      <th>transform</th>\n",
              "    </tr>\n",
              "  </thead>\n",
              "  <tbody>\n",
              "    <tr>\n",
              "      <th>0</th>\n",
              "      <td>tutorial</td>\n",
              "      <td>raw.p</td>\n",
              "      <td>1</td>\n",
              "      <td></td>\n",
              "      <td>{'unit': 'mbar'}</td>\n",
              "      <td>year</td>\n",
              "      <td>False</td>\n",
              "      <td>False</td>\n",
              "    </tr>\n",
              "    <tr>\n",
              "      <th>1</th>\n",
              "      <td>tutorial</td>\n",
              "      <td>raw.T</td>\n",
              "      <td>1</td>\n",
              "      <td></td>\n",
              "      <td>{'unit': 'degC'}</td>\n",
              "      <td>year</td>\n",
              "      <td>False</td>\n",
              "      <td>False</td>\n",
              "    </tr>\n",
              "    <tr>\n",
              "      <th>2</th>\n",
              "      <td>tutorial</td>\n",
              "      <td>raw.Tpot</td>\n",
              "      <td>1</td>\n",
              "      <td></td>\n",
              "      <td>{'unit': 'K'}</td>\n",
              "      <td>year</td>\n",
              "      <td>False</td>\n",
              "      <td>False</td>\n",
              "    </tr>\n",
              "    <tr>\n",
              "      <th>3</th>\n",
              "      <td>tutorial</td>\n",
              "      <td>raw.Tdew</td>\n",
              "      <td>1</td>\n",
              "      <td></td>\n",
              "      <td>{'unit': 'degC'}</td>\n",
              "      <td>year</td>\n",
              "      <td>False</td>\n",
              "      <td>False</td>\n",
              "    </tr>\n",
              "    <tr>\n",
              "      <th>4</th>\n",
              "      <td>tutorial</td>\n",
              "      <td>raw.rh</td>\n",
              "      <td>1</td>\n",
              "      <td></td>\n",
              "      <td>{'unit': '%'}</td>\n",
              "      <td>year</td>\n",
              "      <td>False</td>\n",
              "      <td>False</td>\n",
              "    </tr>\n",
              "    <tr>\n",
              "      <th>5</th>\n",
              "      <td>tutorial</td>\n",
              "      <td>raw.VPmax</td>\n",
              "      <td>1</td>\n",
              "      <td></td>\n",
              "      <td>{'unit': 'mbar'}</td>\n",
              "      <td>year</td>\n",
              "      <td>False</td>\n",
              "      <td>False</td>\n",
              "    </tr>\n",
              "    <tr>\n",
              "      <th>6</th>\n",
              "      <td>tutorial</td>\n",
              "      <td>raw.VPact</td>\n",
              "      <td>1</td>\n",
              "      <td></td>\n",
              "      <td>{'unit': 'mbar'}</td>\n",
              "      <td>year</td>\n",
              "      <td>False</td>\n",
              "      <td>False</td>\n",
              "    </tr>\n",
              "    <tr>\n",
              "      <th>7</th>\n",
              "      <td>tutorial</td>\n",
              "      <td>raw.VPdef</td>\n",
              "      <td>1</td>\n",
              "      <td></td>\n",
              "      <td>{'unit': 'mbar'}</td>\n",
              "      <td>year</td>\n",
              "      <td>False</td>\n",
              "      <td>False</td>\n",
              "    </tr>\n",
              "    <tr>\n",
              "      <th>8</th>\n",
              "      <td>tutorial</td>\n",
              "      <td>raw.sh</td>\n",
              "      <td>1</td>\n",
              "      <td></td>\n",
              "      <td>{'unit': 'g/kg'}</td>\n",
              "      <td>year</td>\n",
              "      <td>False</td>\n",
              "      <td>False</td>\n",
              "    </tr>\n",
              "    <tr>\n",
              "      <th>9</th>\n",
              "      <td>tutorial</td>\n",
              "      <td>raw.H2OC</td>\n",
              "      <td>1</td>\n",
              "      <td></td>\n",
              "      <td>{'unit': 'mmol/mol'}</td>\n",
              "      <td>year</td>\n",
              "      <td>False</td>\n",
              "      <td>False</td>\n",
              "    </tr>\n",
              "    <tr>\n",
              "      <th>10</th>\n",
              "      <td>tutorial</td>\n",
              "      <td>raw.rho</td>\n",
              "      <td>1</td>\n",
              "      <td></td>\n",
              "      <td>{'unit': 'g/m**3'}</td>\n",
              "      <td>year</td>\n",
              "      <td>False</td>\n",
              "      <td>False</td>\n",
              "    </tr>\n",
              "    <tr>\n",
              "      <th>11</th>\n",
              "      <td>tutorial</td>\n",
              "      <td>raw.wv</td>\n",
              "      <td>1</td>\n",
              "      <td></td>\n",
              "      <td>{'unit': 'm/s'}</td>\n",
              "      <td>year</td>\n",
              "      <td>False</td>\n",
              "      <td>False</td>\n",
              "    </tr>\n",
              "    <tr>\n",
              "      <th>12</th>\n",
              "      <td>tutorial</td>\n",
              "      <td>raw.max.wv</td>\n",
              "      <td>1</td>\n",
              "      <td></td>\n",
              "      <td>{'unit': 'm/s'}</td>\n",
              "      <td>year</td>\n",
              "      <td>False</td>\n",
              "      <td>False</td>\n",
              "    </tr>\n",
              "    <tr>\n",
              "      <th>13</th>\n",
              "      <td>tutorial</td>\n",
              "      <td>raw.wd</td>\n",
              "      <td>1</td>\n",
              "      <td></td>\n",
              "      <td>{'unit': 'deg'}</td>\n",
              "      <td>year</td>\n",
              "      <td>False</td>\n",
              "      <td>False</td>\n",
              "    </tr>\n",
              "  </tbody>\n",
              "</table>\n",
              "</div>"
            ],
            "text/plain": [
              "   namespace        name  version  ... partition serialized transform\n",
              "0   tutorial       raw.p        1  ...      year      False     False\n",
              "1   tutorial       raw.T        1  ...      year      False     False\n",
              "2   tutorial    raw.Tpot        1  ...      year      False     False\n",
              "3   tutorial    raw.Tdew        1  ...      year      False     False\n",
              "4   tutorial      raw.rh        1  ...      year      False     False\n",
              "5   tutorial   raw.VPmax        1  ...      year      False     False\n",
              "6   tutorial   raw.VPact        1  ...      year      False     False\n",
              "7   tutorial   raw.VPdef        1  ...      year      False     False\n",
              "8   tutorial      raw.sh        1  ...      year      False     False\n",
              "9   tutorial    raw.H2OC        1  ...      year      False     False\n",
              "10  tutorial     raw.rho        1  ...      year      False     False\n",
              "11  tutorial      raw.wv        1  ...      year      False     False\n",
              "12  tutorial  raw.max.wv        1  ...      year      False     False\n",
              "13  tutorial      raw.wd        1  ...      year      False     False\n",
              "\n",
              "[14 rows x 8 columns]"
            ]
          },
          "metadata": {
            "tags": []
          },
          "execution_count": 9
        }
      ]
    },
    {
      "cell_type": "markdown",
      "metadata": {
        "id": "P7gio9kqznpJ"
      },
      "source": [
        "## Cleaning data\n",
        "\n",
        "Following [this step](https://www.tensorflow.org/tutorials/structured_data/time_series#wind_velocity) we can use a feature transform to remove the `-9999` values from wind velocity."
      ]
    },
    {
      "cell_type": "code",
      "metadata": {
        "id": "GZW_s-CHzF60"
      },
      "source": [
        "@fs.transform('tutorial/cleaned.wv', from_features=['tutorial/raw.wv'])\n",
        "def clean_wind_data(df):\n",
        "  bad_data = df['tutorial/raw.wv'] < 0\n",
        "  df.loc[bad_data, 'tutorial/raw.wv'] = 0\n",
        "  return df\n",
        "\n",
        "@fs.transform('tutorial/cleaned.max.wv', from_features=['tutorial/raw.max.wv'])\n",
        "def clean_wind_data(df):\n",
        "  bad_data = df['tutorial/raw.max.wv'] < 0\n",
        "  df.loc[bad_data, 'tutorial/raw.max.wv'] = 0\n",
        "  return df "
      ],
      "execution_count": 10,
      "outputs": []
    },
    {
      "cell_type": "code",
      "metadata": {
        "colab": {
          "base_uri": "https://localhost:8080/",
          "height": 297
        },
        "id": "BiaOjoNtB3xO",
        "outputId": "fff74d0e-7ad7-4742-c528-8a9ba32b6db9"
      },
      "source": [
        "# Verify that the data has been cleaned: minimum of the cleaned data should now be zero\n",
        "data = fs.load_dataframe(['tutorial/raw.wv', 'tutorial/raw.max.wv', 'tutorial/cleaned.wv', 'tutorial/cleaned.max.wv'])\n",
        "data.describe()"
      ],
      "execution_count": 11,
      "outputs": [
        {
          "output_type": "execute_result",
          "data": {
            "text/html": [
              "<div>\n",
              "<style scoped>\n",
              "    .dataframe tbody tr th:only-of-type {\n",
              "        vertical-align: middle;\n",
              "    }\n",
              "\n",
              "    .dataframe tbody tr th {\n",
              "        vertical-align: top;\n",
              "    }\n",
              "\n",
              "    .dataframe thead th {\n",
              "        text-align: right;\n",
              "    }\n",
              "</style>\n",
              "<table border=\"1\" class=\"dataframe\">\n",
              "  <thead>\n",
              "    <tr style=\"text-align: right;\">\n",
              "      <th></th>\n",
              "      <th>tutorial/raw.wv</th>\n",
              "      <th>tutorial/raw.max.wv</th>\n",
              "      <th>tutorial/cleaned.wv</th>\n",
              "      <th>tutorial/cleaned.max.wv</th>\n",
              "    </tr>\n",
              "  </thead>\n",
              "  <tbody>\n",
              "    <tr>\n",
              "      <th>count</th>\n",
              "      <td>420224.000000</td>\n",
              "      <td>420224.000000</td>\n",
              "      <td>420224.000000</td>\n",
              "      <td>420224.000000</td>\n",
              "    </tr>\n",
              "    <tr>\n",
              "      <th>mean</th>\n",
              "      <td>1.700930</td>\n",
              "      <td>3.054884</td>\n",
              "      <td>2.129230</td>\n",
              "      <td>3.530774</td>\n",
              "    </tr>\n",
              "    <tr>\n",
              "      <th>std</th>\n",
              "      <td>65.472111</td>\n",
              "      <td>69.043660</td>\n",
              "      <td>1.540641</td>\n",
              "      <td>2.338168</td>\n",
              "    </tr>\n",
              "    <tr>\n",
              "      <th>min</th>\n",
              "      <td>-9999.000000</td>\n",
              "      <td>-9999.000000</td>\n",
              "      <td>0.000000</td>\n",
              "      <td>0.000000</td>\n",
              "    </tr>\n",
              "    <tr>\n",
              "      <th>25%</th>\n",
              "      <td>0.990000</td>\n",
              "      <td>1.760000</td>\n",
              "      <td>0.990000</td>\n",
              "      <td>1.760000</td>\n",
              "    </tr>\n",
              "    <tr>\n",
              "      <th>50%</th>\n",
              "      <td>1.760000</td>\n",
              "      <td>2.960000</td>\n",
              "      <td>1.760000</td>\n",
              "      <td>2.960000</td>\n",
              "    </tr>\n",
              "    <tr>\n",
              "      <th>75%</th>\n",
              "      <td>2.860000</td>\n",
              "      <td>4.730000</td>\n",
              "      <td>2.860000</td>\n",
              "      <td>4.730000</td>\n",
              "    </tr>\n",
              "    <tr>\n",
              "      <th>max</th>\n",
              "      <td>28.490000</td>\n",
              "      <td>23.500000</td>\n",
              "      <td>28.490000</td>\n",
              "      <td>23.500000</td>\n",
              "    </tr>\n",
              "  </tbody>\n",
              "</table>\n",
              "</div>"
            ],
            "text/plain": [
              "       tutorial/raw.wv  ...  tutorial/cleaned.max.wv\n",
              "count    420224.000000  ...            420224.000000\n",
              "mean          1.700930  ...                 3.530774\n",
              "std          65.472111  ...                 2.338168\n",
              "min       -9999.000000  ...                 0.000000\n",
              "25%           0.990000  ...                 1.760000\n",
              "50%           1.760000  ...                 2.960000\n",
              "75%           2.860000  ...                 4.730000\n",
              "max          28.490000  ...                23.500000\n",
              "\n",
              "[8 rows x 4 columns]"
            ]
          },
          "metadata": {
            "tags": []
          },
          "execution_count": 11
        }
      ]
    },
    {
      "cell_type": "markdown",
      "metadata": {
        "id": "yCCAJE65Cb9k"
      },
      "source": [
        "## Feature engineering\n",
        "\n",
        "Following [this step](https://www.tensorflow.org/tutorials/structured_data/time_series#feature_engineering) we can create new features for:\n",
        "* Wind x- and y-components, calculated from wind speed and angle;\n",
        "* Cyclical sin- and cos-variables from time. "
      ]
    },
    {
      "cell_type": "code",
      "metadata": {
        "id": "xPI5v-KY1KZq"
      },
      "source": [
        "@fs.transform('tutorial/transformed.wind-x', from_features=['tutorial/cleaned.wv', 'tutorial/raw.wd'])\n",
        "def wind_x(df):\n",
        "  radians = df['tutorial/raw.wd'] * np.pi / 180\n",
        "  return df['tutorial/cleaned.wv'] * np.cos(radians)\n",
        "\n",
        "@fs.transform('tutorial/transformed.wind-y', from_features=['tutorial/cleaned.wv', 'tutorial/raw.wd'])\n",
        "def wind_y(df):\n",
        "  radians = df['tutorial/raw.wd'] * np.pi / 180\n",
        "  return df['tutorial/cleaned.wv'] * np.sin(radians)"
      ],
      "execution_count": 12,
      "outputs": []
    },
    {
      "cell_type": "code",
      "metadata": {
        "colab": {
          "base_uri": "https://localhost:8080/",
          "height": 235
        },
        "id": "zvnU9AahEBDW",
        "outputId": "2340d608-021f-4e49-c841-3580f83b13ee"
      },
      "source": [
        "# Verify the new wind x- and y-features\n",
        "data = fs.load_dataframe(['tutorial/cleaned.wv', 'tutorial/raw.wd', 'tutorial/transformed.wind-x', 'tutorial/transformed.wind-y'])\n",
        "data.head()"
      ],
      "execution_count": 13,
      "outputs": [
        {
          "output_type": "execute_result",
          "data": {
            "text/html": [
              "<div>\n",
              "<style scoped>\n",
              "    .dataframe tbody tr th:only-of-type {\n",
              "        vertical-align: middle;\n",
              "    }\n",
              "\n",
              "    .dataframe tbody tr th {\n",
              "        vertical-align: top;\n",
              "    }\n",
              "\n",
              "    .dataframe thead th {\n",
              "        text-align: right;\n",
              "    }\n",
              "</style>\n",
              "<table border=\"1\" class=\"dataframe\">\n",
              "  <thead>\n",
              "    <tr style=\"text-align: right;\">\n",
              "      <th></th>\n",
              "      <th>tutorial/cleaned.wv</th>\n",
              "      <th>tutorial/raw.wd</th>\n",
              "      <th>tutorial/transformed.wind-x</th>\n",
              "      <th>tutorial/transformed.wind-y</th>\n",
              "    </tr>\n",
              "    <tr>\n",
              "      <th>time</th>\n",
              "      <th></th>\n",
              "      <th></th>\n",
              "      <th></th>\n",
              "      <th></th>\n",
              "    </tr>\n",
              "  </thead>\n",
              "  <tbody>\n",
              "    <tr>\n",
              "      <th>2009-01-01 00:10:00</th>\n",
              "      <td>1.03</td>\n",
              "      <td>152.3</td>\n",
              "      <td>-0.911955</td>\n",
              "      <td>0.478787</td>\n",
              "    </tr>\n",
              "    <tr>\n",
              "      <th>2009-01-01 00:20:00</th>\n",
              "      <td>0.72</td>\n",
              "      <td>136.1</td>\n",
              "      <td>-0.518797</td>\n",
              "      <td>0.499249</td>\n",
              "    </tr>\n",
              "    <tr>\n",
              "      <th>2009-01-01 00:30:00</th>\n",
              "      <td>0.19</td>\n",
              "      <td>171.6</td>\n",
              "      <td>-0.187962</td>\n",
              "      <td>0.027756</td>\n",
              "    </tr>\n",
              "    <tr>\n",
              "      <th>2009-01-01 00:40:00</th>\n",
              "      <td>0.34</td>\n",
              "      <td>198.0</td>\n",
              "      <td>-0.323359</td>\n",
              "      <td>-0.105066</td>\n",
              "    </tr>\n",
              "    <tr>\n",
              "      <th>2009-01-01 00:50:00</th>\n",
              "      <td>0.32</td>\n",
              "      <td>214.3</td>\n",
              "      <td>-0.264351</td>\n",
              "      <td>-0.180328</td>\n",
              "    </tr>\n",
              "  </tbody>\n",
              "</table>\n",
              "</div>"
            ],
            "text/plain": [
              "                     tutorial/cleaned.wv  ...  tutorial/transformed.wind-y\n",
              "time                                      ...                             \n",
              "2009-01-01 00:10:00                 1.03  ...                     0.478787\n",
              "2009-01-01 00:20:00                 0.72  ...                     0.499249\n",
              "2009-01-01 00:30:00                 0.19  ...                     0.027756\n",
              "2009-01-01 00:40:00                 0.34  ...                    -0.105066\n",
              "2009-01-01 00:50:00                 0.32  ...                    -0.180328\n",
              "\n",
              "[5 rows x 4 columns]"
            ]
          },
          "metadata": {
            "tags": []
          },
          "execution_count": 13
        }
      ]
    },
    {
      "cell_type": "code",
      "metadata": {
        "id": "53HqAsF3EBGb"
      },
      "source": [
        "# Do the same for max wind speed\n",
        "@fs.transform('tutorial/transformed.maxwind-x', from_features=['tutorial/cleaned.max.wv', 'tutorial/raw.wd'])\n",
        "def wind_x(df):\n",
        "  radians = df['tutorial/raw.wd'] * np.pi / 180\n",
        "  return df['tutorial/cleaned.max.wv'] * np.cos(radians)\n",
        "\n",
        "@fs.transform('tutorial/transformed.maxwind-y', from_features=['tutorial/cleaned.max.wv', 'tutorial/raw.wd'])\n",
        "def wind_y(df):\n",
        "  radians = df['tutorial/raw.wd'] * np.pi / 180\n",
        "  return df['tutorial/cleaned.max.wv'] * np.sin(radians)"
      ],
      "execution_count": 14,
      "outputs": []
    },
    {
      "cell_type": "code",
      "metadata": {
        "id": "mbkwaf8ZFTS9"
      },
      "source": [
        "# Create transforms for sin and cos of day\n",
        "@fs.transform('tutorial/transformed.day.sine', from_features=['tutorial/raw.wd'])\n",
        "def sine_days(df):\n",
        "  # Convert time index to seconds\n",
        "  seconds = df.index.astype(np.int64) // 10 ** 9\n",
        "  days = seconds / 24 / 60 / 60\n",
        "  return pd.DataFrame({'value': np.sin(days.values)}, index=df.index)\n",
        "\n",
        "@fs.transform('tutorial/transformed.day.cosine', from_features=['tutorial/raw.wd'])\n",
        "def cosine_days(df):\n",
        "  # Convert time index to seconds\n",
        "  seconds = df.index.astype(np.int64) // 10 ** 9\n",
        "  days = seconds / 24 / 60 / 60\n",
        "  return pd.DataFrame({'value': np.cos(days.values)}, index=df.index)"
      ],
      "execution_count": 15,
      "outputs": []
    },
    {
      "cell_type": "code",
      "metadata": {
        "id": "kfzN6hf-I0Oz"
      },
      "source": [
        "# Do the same for year\n",
        "@fs.transform('tutorial/transformed.year.sine', from_features=['tutorial/raw.wd'])\n",
        "def sine_days(df):\n",
        "  # Convert time index to seconds\n",
        "  seconds = df.index.astype(np.int64) // 10 ** 9\n",
        "  years =  seconds / 24 / 60 / 60 / 365.2425\n",
        "  return pd.DataFrame({'value': np.sin(years.values)}, index=df.index)\n",
        "\n",
        "@fs.transform('tutorial/transformed.year.cosine', from_features=['tutorial/raw.wd'])\n",
        "def cosine_days(df):\n",
        "  # Convert time index to seconds\n",
        "  seconds = df.index.astype(np.int64) // 10 ** 9\n",
        "  years =  seconds / 24 / 60 / 60 / 365.2425\n",
        "  return pd.DataFrame({'value': np.cos(years.values)}, index=df.index)"
      ],
      "execution_count": 16,
      "outputs": []
    },
    {
      "cell_type": "code",
      "metadata": {
        "colab": {
          "base_uri": "https://localhost:8080/",
          "height": 235
        },
        "id": "MRXzH6BUHDYB",
        "outputId": "1addb7b3-e209-4a66-8390-24090f71456a"
      },
      "source": [
        "data = fs.load_dataframe(['tutorial/transformed.day.sine', 'tutorial/transformed.day.cosine', 'tutorial/transformed.year.sine', 'tutorial/transformed.year.cosine'])\n",
        "data.head()"
      ],
      "execution_count": 17,
      "outputs": [
        {
          "output_type": "execute_result",
          "data": {
            "text/html": [
              "<div>\n",
              "<style scoped>\n",
              "    .dataframe tbody tr th:only-of-type {\n",
              "        vertical-align: middle;\n",
              "    }\n",
              "\n",
              "    .dataframe tbody tr th {\n",
              "        vertical-align: top;\n",
              "    }\n",
              "\n",
              "    .dataframe thead th {\n",
              "        text-align: right;\n",
              "    }\n",
              "</style>\n",
              "<table border=\"1\" class=\"dataframe\">\n",
              "  <thead>\n",
              "    <tr style=\"text-align: right;\">\n",
              "      <th></th>\n",
              "      <th>tutorial/transformed.day.sine</th>\n",
              "      <th>tutorial/transformed.day.cosine</th>\n",
              "      <th>tutorial/transformed.year.sine</th>\n",
              "      <th>tutorial/transformed.year.cosine</th>\n",
              "    </tr>\n",
              "    <tr>\n",
              "      <th>time</th>\n",
              "      <th></th>\n",
              "      <th></th>\n",
              "      <th></th>\n",
              "      <th></th>\n",
              "    </tr>\n",
              "  </thead>\n",
              "  <tbody>\n",
              "    <tr>\n",
              "      <th>2009-01-01 00:10:00</th>\n",
              "      <td>0.855157</td>\n",
              "      <td>0.518370</td>\n",
              "      <td>0.964195</td>\n",
              "      <td>0.265193</td>\n",
              "    </tr>\n",
              "    <tr>\n",
              "      <th>2009-01-01 00:20:00</th>\n",
              "      <td>0.858736</td>\n",
              "      <td>0.512419</td>\n",
              "      <td>0.964200</td>\n",
              "      <td>0.265174</td>\n",
              "    </tr>\n",
              "    <tr>\n",
              "      <th>2009-01-01 00:30:00</th>\n",
              "      <td>0.862274</td>\n",
              "      <td>0.506443</td>\n",
              "      <td>0.964205</td>\n",
              "      <td>0.265156</td>\n",
              "    </tr>\n",
              "    <tr>\n",
              "      <th>2009-01-01 00:40:00</th>\n",
              "      <td>0.865770</td>\n",
              "      <td>0.500443</td>\n",
              "      <td>0.964211</td>\n",
              "      <td>0.265138</td>\n",
              "    </tr>\n",
              "    <tr>\n",
              "      <th>2009-01-01 00:50:00</th>\n",
              "      <td>0.869224</td>\n",
              "      <td>0.494418</td>\n",
              "      <td>0.964216</td>\n",
              "      <td>0.265119</td>\n",
              "    </tr>\n",
              "  </tbody>\n",
              "</table>\n",
              "</div>"
            ],
            "text/plain": [
              "                     tutorial/transformed.day.sine  ...  tutorial/transformed.year.cosine\n",
              "time                                                ...                                  \n",
              "2009-01-01 00:10:00                       0.855157  ...                          0.265193\n",
              "2009-01-01 00:20:00                       0.858736  ...                          0.265174\n",
              "2009-01-01 00:30:00                       0.862274  ...                          0.265156\n",
              "2009-01-01 00:40:00                       0.865770  ...                          0.265138\n",
              "2009-01-01 00:50:00                       0.869224  ...                          0.265119\n",
              "\n",
              "[5 rows x 4 columns]"
            ]
          },
          "metadata": {
            "tags": []
          },
          "execution_count": 17
        }
      ]
    },
    {
      "cell_type": "code",
      "metadata": {
        "colab": {
          "base_uri": "https://localhost:8080/",
          "height": 297
        },
        "id": "wbOgX62bHDap",
        "outputId": "30b960d4-79d5-42d2-b093-6e8539126c7d"
      },
      "source": [
        "# List all of our newly engineered features\n",
        "fs.list_features(regex=r'transformed\\..')"
      ],
      "execution_count": 18,
      "outputs": [
        {
          "output_type": "execute_result",
          "data": {
            "text/html": [
              "<div>\n",
              "<style scoped>\n",
              "    .dataframe tbody tr th:only-of-type {\n",
              "        vertical-align: middle;\n",
              "    }\n",
              "\n",
              "    .dataframe tbody tr th {\n",
              "        vertical-align: top;\n",
              "    }\n",
              "\n",
              "    .dataframe thead th {\n",
              "        text-align: right;\n",
              "    }\n",
              "</style>\n",
              "<table border=\"1\" class=\"dataframe\">\n",
              "  <thead>\n",
              "    <tr style=\"text-align: right;\">\n",
              "      <th></th>\n",
              "      <th>namespace</th>\n",
              "      <th>name</th>\n",
              "      <th>version</th>\n",
              "      <th>description</th>\n",
              "      <th>meta</th>\n",
              "      <th>partition</th>\n",
              "      <th>serialized</th>\n",
              "      <th>transform</th>\n",
              "    </tr>\n",
              "  </thead>\n",
              "  <tbody>\n",
              "    <tr>\n",
              "      <th>16</th>\n",
              "      <td>tutorial</td>\n",
              "      <td>transformed.wind-x</td>\n",
              "      <td>1</td>\n",
              "      <td></td>\n",
              "      <td>{}</td>\n",
              "      <td>date</td>\n",
              "      <td>False</td>\n",
              "      <td>True</td>\n",
              "    </tr>\n",
              "    <tr>\n",
              "      <th>17</th>\n",
              "      <td>tutorial</td>\n",
              "      <td>transformed.wind-y</td>\n",
              "      <td>1</td>\n",
              "      <td></td>\n",
              "      <td>{}</td>\n",
              "      <td>date</td>\n",
              "      <td>False</td>\n",
              "      <td>True</td>\n",
              "    </tr>\n",
              "    <tr>\n",
              "      <th>18</th>\n",
              "      <td>tutorial</td>\n",
              "      <td>transformed.maxwind-x</td>\n",
              "      <td>1</td>\n",
              "      <td></td>\n",
              "      <td>{}</td>\n",
              "      <td>date</td>\n",
              "      <td>False</td>\n",
              "      <td>True</td>\n",
              "    </tr>\n",
              "    <tr>\n",
              "      <th>19</th>\n",
              "      <td>tutorial</td>\n",
              "      <td>transformed.maxwind-y</td>\n",
              "      <td>1</td>\n",
              "      <td></td>\n",
              "      <td>{}</td>\n",
              "      <td>date</td>\n",
              "      <td>False</td>\n",
              "      <td>True</td>\n",
              "    </tr>\n",
              "    <tr>\n",
              "      <th>20</th>\n",
              "      <td>tutorial</td>\n",
              "      <td>transformed.day.sine</td>\n",
              "      <td>1</td>\n",
              "      <td></td>\n",
              "      <td>{}</td>\n",
              "      <td>date</td>\n",
              "      <td>False</td>\n",
              "      <td>True</td>\n",
              "    </tr>\n",
              "    <tr>\n",
              "      <th>21</th>\n",
              "      <td>tutorial</td>\n",
              "      <td>transformed.day.cosine</td>\n",
              "      <td>1</td>\n",
              "      <td></td>\n",
              "      <td>{}</td>\n",
              "      <td>date</td>\n",
              "      <td>False</td>\n",
              "      <td>True</td>\n",
              "    </tr>\n",
              "    <tr>\n",
              "      <th>22</th>\n",
              "      <td>tutorial</td>\n",
              "      <td>transformed.year.sine</td>\n",
              "      <td>1</td>\n",
              "      <td></td>\n",
              "      <td>{}</td>\n",
              "      <td>date</td>\n",
              "      <td>False</td>\n",
              "      <td>True</td>\n",
              "    </tr>\n",
              "    <tr>\n",
              "      <th>23</th>\n",
              "      <td>tutorial</td>\n",
              "      <td>transformed.year.cosine</td>\n",
              "      <td>1</td>\n",
              "      <td></td>\n",
              "      <td>{}</td>\n",
              "      <td>date</td>\n",
              "      <td>False</td>\n",
              "      <td>True</td>\n",
              "    </tr>\n",
              "  </tbody>\n",
              "</table>\n",
              "</div>"
            ],
            "text/plain": [
              "   namespace                     name  version  ... partition serialized transform\n",
              "16  tutorial       transformed.wind-x        1  ...      date      False      True\n",
              "17  tutorial       transformed.wind-y        1  ...      date      False      True\n",
              "18  tutorial    transformed.maxwind-x        1  ...      date      False      True\n",
              "19  tutorial    transformed.maxwind-y        1  ...      date      False      True\n",
              "20  tutorial     transformed.day.sine        1  ...      date      False      True\n",
              "21  tutorial   transformed.day.cosine        1  ...      date      False      True\n",
              "22  tutorial    transformed.year.sine        1  ...      date      False      True\n",
              "23  tutorial  transformed.year.cosine        1  ...      date      False      True\n",
              "\n",
              "[8 rows x 8 columns]"
            ]
          },
          "metadata": {
            "tags": []
          },
          "execution_count": 18
        }
      ]
    },
    {
      "cell_type": "markdown",
      "metadata": {
        "id": "57oJhge5Jppb"
      },
      "source": [
        "## Model development\n",
        "\n",
        "Now that the feature store is handling all of our data-prep and feature engineering, it is easy to query the features we want, resample appropriately, and feed into an ML model.\n",
        "\n",
        "Here we will build a model to forecast the temperature feature, `raw.T` into the future using hourly sampling."
      ]
    },
    {
      "cell_type": "code",
      "metadata": {
        "id": "S1n8BsYBHDdh"
      },
      "source": [
        "# Define the features we want to use in our model\n",
        "model_features = [\n",
        "  'tutorial/raw.T', # We will be forecasting this variable\n",
        "  'tutorial/raw.p',\n",
        "  'tutorial/raw.Tpot',\n",
        "  'tutorial/raw.Tdew',\n",
        "  'tutorial/raw.rh',\n",
        "  'tutorial/raw.VPmax',\n",
        "  'tutorial/raw.VPact',\n",
        "  'tutorial/raw.VPdef',\n",
        "  'tutorial/raw.sh',\n",
        "  'tutorial/raw.H2OC',\n",
        "  'tutorial/raw.rho',\n",
        "  'tutorial/cleaned.wv',\n",
        "  'tutorial/cleaned.max.wv',\n",
        "  'tutorial/transformed.wind-x',\n",
        "  'tutorial/transformed.wind-y',\n",
        "  'tutorial/transformed.maxwind-x',\n",
        "  'tutorial/transformed.maxwind-y',\n",
        "  'tutorial/transformed.day.sine',\n",
        "  'tutorial/transformed.day.cosine',\n",
        "  'tutorial/transformed.year.sine',\n",
        "  'tutorial/transformed.year.cosine'\n",
        "]"
      ],
      "execution_count": 19,
      "outputs": []
    },
    {
      "cell_type": "code",
      "metadata": {
        "id": "d9kqFv_9K73-"
      },
      "source": [
        "# Prepare a dataset of these features, resampled hourly\n",
        "all_df = fs.load_dataframe(model_features, freq='1h', from_date='2009-01-01 01:00')"
      ],
      "execution_count": 20,
      "outputs": []
    },
    {
      "cell_type": "code",
      "metadata": {
        "colab": {
          "base_uri": "https://localhost:8080/",
          "height": 411
        },
        "id": "biNvwTcLL1zt",
        "outputId": "baa37a6d-c0eb-4bca-f8c6-878644bab40f"
      },
      "source": [
        "all_df.head()"
      ],
      "execution_count": 21,
      "outputs": [
        {
          "output_type": "execute_result",
          "data": {
            "text/html": [
              "<div>\n",
              "<style scoped>\n",
              "    .dataframe tbody tr th:only-of-type {\n",
              "        vertical-align: middle;\n",
              "    }\n",
              "\n",
              "    .dataframe tbody tr th {\n",
              "        vertical-align: top;\n",
              "    }\n",
              "\n",
              "    .dataframe thead th {\n",
              "        text-align: right;\n",
              "    }\n",
              "</style>\n",
              "<table border=\"1\" class=\"dataframe\">\n",
              "  <thead>\n",
              "    <tr style=\"text-align: right;\">\n",
              "      <th></th>\n",
              "      <th>tutorial/raw.T</th>\n",
              "      <th>tutorial/raw.p</th>\n",
              "      <th>tutorial/raw.Tpot</th>\n",
              "      <th>tutorial/raw.Tdew</th>\n",
              "      <th>tutorial/raw.rh</th>\n",
              "      <th>tutorial/raw.VPmax</th>\n",
              "      <th>tutorial/raw.VPact</th>\n",
              "      <th>tutorial/raw.VPdef</th>\n",
              "      <th>tutorial/raw.sh</th>\n",
              "      <th>tutorial/raw.H2OC</th>\n",
              "      <th>tutorial/raw.rho</th>\n",
              "      <th>tutorial/cleaned.wv</th>\n",
              "      <th>tutorial/cleaned.max.wv</th>\n",
              "      <th>tutorial/transformed.wind-x</th>\n",
              "      <th>tutorial/transformed.wind-y</th>\n",
              "      <th>tutorial/transformed.maxwind-x</th>\n",
              "      <th>tutorial/transformed.maxwind-y</th>\n",
              "      <th>tutorial/transformed.day.sine</th>\n",
              "      <th>tutorial/transformed.day.cosine</th>\n",
              "      <th>tutorial/transformed.year.sine</th>\n",
              "      <th>tutorial/transformed.year.cosine</th>\n",
              "    </tr>\n",
              "  </thead>\n",
              "  <tbody>\n",
              "    <tr>\n",
              "      <th>2009-01-01 01:00:00</th>\n",
              "      <td>-8.05</td>\n",
              "      <td>996.50</td>\n",
              "      <td>265.38</td>\n",
              "      <td>-8.78</td>\n",
              "      <td>94.4</td>\n",
              "      <td>3.33</td>\n",
              "      <td>3.14</td>\n",
              "      <td>0.19</td>\n",
              "      <td>1.96</td>\n",
              "      <td>3.15</td>\n",
              "      <td>1307.86</td>\n",
              "      <td>0.21</td>\n",
              "      <td>0.63</td>\n",
              "      <td>-0.204862</td>\n",
              "      <td>-0.046168</td>\n",
              "      <td>-0.614587</td>\n",
              "      <td>-0.138503</td>\n",
              "      <td>0.872637</td>\n",
              "      <td>0.488370</td>\n",
              "      <td>0.964221</td>\n",
              "      <td>0.265101</td>\n",
              "    </tr>\n",
              "    <tr>\n",
              "      <th>2009-01-01 02:00:00</th>\n",
              "      <td>-8.88</td>\n",
              "      <td>996.62</td>\n",
              "      <td>264.54</td>\n",
              "      <td>-9.77</td>\n",
              "      <td>93.2</td>\n",
              "      <td>3.12</td>\n",
              "      <td>2.90</td>\n",
              "      <td>0.21</td>\n",
              "      <td>1.81</td>\n",
              "      <td>2.91</td>\n",
              "      <td>1312.25</td>\n",
              "      <td>0.25</td>\n",
              "      <td>0.63</td>\n",
              "      <td>-0.245971</td>\n",
              "      <td>-0.044701</td>\n",
              "      <td>-0.619848</td>\n",
              "      <td>-0.112645</td>\n",
              "      <td>0.892222</td>\n",
              "      <td>0.451597</td>\n",
              "      <td>0.964251</td>\n",
              "      <td>0.264991</td>\n",
              "    </tr>\n",
              "    <tr>\n",
              "      <th>2009-01-01 03:00:00</th>\n",
              "      <td>-8.81</td>\n",
              "      <td>996.84</td>\n",
              "      <td>264.59</td>\n",
              "      <td>-9.66</td>\n",
              "      <td>93.5</td>\n",
              "      <td>3.13</td>\n",
              "      <td>2.93</td>\n",
              "      <td>0.20</td>\n",
              "      <td>1.83</td>\n",
              "      <td>2.94</td>\n",
              "      <td>1312.18</td>\n",
              "      <td>0.18</td>\n",
              "      <td>0.63</td>\n",
              "      <td>-0.175527</td>\n",
              "      <td>0.039879</td>\n",
              "      <td>-0.614344</td>\n",
              "      <td>0.139576</td>\n",
              "      <td>0.910259</td>\n",
              "      <td>0.414040</td>\n",
              "      <td>0.964281</td>\n",
              "      <td>0.264881</td>\n",
              "    </tr>\n",
              "    <tr>\n",
              "      <th>2009-01-01 04:00:00</th>\n",
              "      <td>-9.05</td>\n",
              "      <td>996.99</td>\n",
              "      <td>264.34</td>\n",
              "      <td>-10.02</td>\n",
              "      <td>92.6</td>\n",
              "      <td>3.07</td>\n",
              "      <td>2.85</td>\n",
              "      <td>0.23</td>\n",
              "      <td>1.78</td>\n",
              "      <td>2.85</td>\n",
              "      <td>1313.61</td>\n",
              "      <td>0.10</td>\n",
              "      <td>0.38</td>\n",
              "      <td>-0.050000</td>\n",
              "      <td>-0.086603</td>\n",
              "      <td>-0.190000</td>\n",
              "      <td>-0.329090</td>\n",
              "      <td>0.926715</td>\n",
              "      <td>0.375764</td>\n",
              "      <td>0.964311</td>\n",
              "      <td>0.264771</td>\n",
              "    </tr>\n",
              "    <tr>\n",
              "      <th>2009-01-01 05:00:00</th>\n",
              "      <td>-9.63</td>\n",
              "      <td>997.46</td>\n",
              "      <td>263.72</td>\n",
              "      <td>-10.65</td>\n",
              "      <td>92.2</td>\n",
              "      <td>2.94</td>\n",
              "      <td>2.71</td>\n",
              "      <td>0.23</td>\n",
              "      <td>1.69</td>\n",
              "      <td>2.71</td>\n",
              "      <td>1317.19</td>\n",
              "      <td>0.40</td>\n",
              "      <td>0.88</td>\n",
              "      <td>-0.368202</td>\n",
              "      <td>0.156292</td>\n",
              "      <td>-0.810044</td>\n",
              "      <td>0.343843</td>\n",
              "      <td>0.941563</td>\n",
              "      <td>0.336836</td>\n",
              "      <td>0.964341</td>\n",
              "      <td>0.264661</td>\n",
              "    </tr>\n",
              "  </tbody>\n",
              "</table>\n",
              "</div>"
            ],
            "text/plain": [
              "                     tutorial/raw.T  ...  tutorial/transformed.year.cosine\n",
              "2009-01-01 01:00:00           -8.05  ...                          0.265101\n",
              "2009-01-01 02:00:00           -8.88  ...                          0.264991\n",
              "2009-01-01 03:00:00           -8.81  ...                          0.264881\n",
              "2009-01-01 04:00:00           -9.05  ...                          0.264771\n",
              "2009-01-01 05:00:00           -9.63  ...                          0.264661\n",
              "\n",
              "[5 rows x 21 columns]"
            ]
          },
          "metadata": {
            "tags": []
          },
          "execution_count": 21
        }
      ]
    },
    {
      "cell_type": "code",
      "metadata": {
        "colab": {
          "base_uri": "https://localhost:8080/"
        },
        "id": "Drd5awXJMHv6",
        "outputId": "cf2f3334-e955-4bec-902c-e61c34fc38d3"
      },
      "source": [
        "# Create train (70%), validation (20%) and test (10%) sets\n",
        "n = len(all_df)\n",
        "\n",
        "train_df = all_df[0:int(n * 0.7)]\n",
        "val_df = all_df[int(n * 0.7):int(n * 0.9)]\n",
        "test_df = all_df[int(n * 0.9):]\n",
        "\n",
        "print(f'Split {n} records into {len(train_df)} for train, {len(val_df)} for validation, {len(test_df)} for test')"
      ],
      "execution_count": 22,
      "outputs": [
        {
          "output_type": "stream",
          "text": [
            "Split 70128 records into 49089 for train, 14026 for validation, 7013 for test\n"
          ],
          "name": "stdout"
        }
      ]
    },
    {
      "cell_type": "markdown",
      "metadata": {
        "id": "tweB22f_ExIn"
      },
      "source": [
        "Now define a Tensorflow model to do the forecasting. Here we are going to build an LSTM that takes a 24 hour sequence of weather data and predicts one step into the future."
      ]
    },
    {
      "cell_type": "code",
      "metadata": {
        "id": "x80kcLLGPbTu"
      },
      "source": [
        "# Use this function to make windowed views of the data\n",
        "def make_dataset(features, targets, sequence_length=24, shuffle=False, batch_size=1):\n",
        "  ds = tf.keras.preprocessing.timeseries_dataset_from_array(\n",
        "      features[:-sequence_length], targets[sequence_length:], sequence_length, batch_size=batch_size, shuffle=shuffle\n",
        "  )\n",
        "  return ds"
      ],
      "execution_count": 23,
      "outputs": []
    },
    {
      "cell_type": "code",
      "metadata": {
        "id": "W6ckBV9-SrWJ"
      },
      "source": [
        "# Training and validation datasets\n",
        "train_ds = make_dataset(train_df, train_df[['tutorial/raw.T']], shuffle=True, batch_size=32)\n",
        "val_ds = make_dataset(val_df, val_df[['tutorial/raw.T']], shuffle=False, batch_size=32)"
      ],
      "execution_count": 24,
      "outputs": []
    },
    {
      "cell_type": "code",
      "metadata": {
        "id": "tYpFF-k4S_bj"
      },
      "source": [
        "# Define LSTM model\n",
        "def build_model(df):\n",
        "  # Fit a normalisation layer on the input data\n",
        "  norm = tf.keras.layers.experimental.preprocessing.Normalization()\n",
        "  # Add an extra dimension to the normalisation (this will be used for the time sequences)\n",
        "  norm.adapt(df.values[:, np.newaxis, :])\n",
        "  lstm_model = tf.keras.models.Sequential(\n",
        "      [\n",
        "       # Normalisation\n",
        "       norm,\n",
        "       tf.keras.layers.LSTM(32, return_sequences=False),\n",
        "       tf.keras.layers.Dense(units=1)\n",
        "      ]\n",
        "  )\n",
        "  return lstm_model"
      ],
      "execution_count": 25,
      "outputs": []
    },
    {
      "cell_type": "code",
      "metadata": {
        "id": "flDeeEWOV16n"
      },
      "source": [
        "# Function to compile and fit model\n",
        "def compile_and_fit(model, train_ds, val_ds, patience=2):\n",
        "  early_stopping = tf.keras.callbacks.EarlyStopping(\n",
        "      monitor='val_loss', patience=patience, mode='min'\n",
        "  )\n",
        "\n",
        "  model.compile(\n",
        "      loss=tf.losses.MeanSquaredError(),\n",
        "      optimizer=tf.optimizers.Adam(),\n",
        "      metrics=[tf.metrics.MeanAbsoluteError()]\n",
        "  )\n",
        "\n",
        "  history = model.fit(\n",
        "      train_ds,\n",
        "      epochs=100,\n",
        "      validation_data=val_ds,\n",
        "      callbacks=[early_stopping]\n",
        "  )\n",
        "  return history"
      ],
      "execution_count": 26,
      "outputs": []
    },
    {
      "cell_type": "code",
      "metadata": {
        "id": "jD0AbsFfTiwV"
      },
      "source": [
        "# Builds the model, with normalisation constants based on training set\n",
        "model = build_model(train_df)"
      ],
      "execution_count": 27,
      "outputs": []
    },
    {
      "cell_type": "code",
      "metadata": {
        "colab": {
          "base_uri": "https://localhost:8080/"
        },
        "id": "lQwKuNPnTl4i",
        "outputId": "9e6ceb74-3819-4fab-92a0-d3e437b41fae"
      },
      "source": [
        "history = compile_and_fit(model, train_ds, val_ds)"
      ],
      "execution_count": 28,
      "outputs": [
        {
          "output_type": "stream",
          "text": [
            "Epoch 1/100\n",
            "1533/1533 [==============================] - 52s 14ms/step - loss: 38.2733 - mean_absolute_error: 3.9397 - val_loss: 1.7023 - val_mean_absolute_error: 0.8444\n",
            "Epoch 2/100\n",
            "1533/1533 [==============================] - 21s 14ms/step - loss: 1.2187 - mean_absolute_error: 0.7284 - val_loss: 0.8361 - val_mean_absolute_error: 0.6389\n",
            "Epoch 3/100\n",
            "1533/1533 [==============================] - 21s 14ms/step - loss: 0.6784 - mean_absolute_error: 0.5684 - val_loss: 0.6050 - val_mean_absolute_error: 0.5417\n",
            "Epoch 4/100\n",
            "1533/1533 [==============================] - 21s 14ms/step - loss: 0.5656 - mean_absolute_error: 0.5209 - val_loss: 0.5265 - val_mean_absolute_error: 0.4980\n",
            "Epoch 5/100\n",
            "1533/1533 [==============================] - 21s 14ms/step - loss: 0.5386 - mean_absolute_error: 0.5089 - val_loss: 0.5130 - val_mean_absolute_error: 0.4924\n",
            "Epoch 6/100\n",
            "1533/1533 [==============================] - 21s 14ms/step - loss: 0.5249 - mean_absolute_error: 0.5020 - val_loss: 0.5094 - val_mean_absolute_error: 0.4899\n",
            "Epoch 7/100\n",
            "1533/1533 [==============================] - 21s 14ms/step - loss: 0.5154 - mean_absolute_error: 0.4969 - val_loss: 0.4988 - val_mean_absolute_error: 0.4837\n",
            "Epoch 8/100\n",
            "1533/1533 [==============================] - 21s 14ms/step - loss: 0.5120 - mean_absolute_error: 0.4955 - val_loss: 0.4950 - val_mean_absolute_error: 0.4858\n",
            "Epoch 9/100\n",
            "1533/1533 [==============================] - 21s 14ms/step - loss: 0.5009 - mean_absolute_error: 0.4890 - val_loss: 0.5023 - val_mean_absolute_error: 0.4899\n",
            "Epoch 10/100\n",
            "1533/1533 [==============================] - 21s 14ms/step - loss: 0.4986 - mean_absolute_error: 0.4884 - val_loss: 0.5118 - val_mean_absolute_error: 0.4998\n"
          ],
          "name": "stdout"
        }
      ]
    },
    {
      "cell_type": "code",
      "metadata": {
        "colab": {
          "base_uri": "https://localhost:8080/",
          "height": 501
        },
        "id": "rnWAlBaKW6sT",
        "outputId": "33a75e7c-cb49-4e81-d7d3-8c270923b480"
      },
      "source": [
        "# Plot train, validation losses\n",
        "history_df = pd.DataFrame(history.history)\n",
        "_ = history_df.plot(y=['loss', 'val_loss'], figsize=(16, 8), grid=True, xlabel='Epoch', ylabel='Loss', fontsize=14)"
      ],
      "execution_count": 29,
      "outputs": [
        {
          "output_type": "display_data",
          "data": {
            "image/png": "[encoded data removed]",
            "text/plain": [
              "<Figure size 1152x576 with 1 Axes>"
            ]
          },
          "metadata": {
            "tags": [],
            "needs_background": "light"
          }
        }
      ]
    },
    {
      "cell_type": "markdown",
      "metadata": {
        "id": "YzuRNx-FdKul"
      },
      "source": [
        "## Evaluation\n",
        "\n",
        "Try using the model with data from the test set. We'll compare the LSTM model we have trained with a simple baseline 'persistence' model, which simply predicts the next temperature value to be the same as the previous one."
      ]
    },
    {
      "cell_type": "code",
      "metadata": {
        "id": "YpLwAgnvdkxv"
      },
      "source": [
        "# Don't shuffle the test data, so that we can plot it sequentially\n",
        "test_ds = make_dataset(test_df, test_df[['tutorial/raw.T']], shuffle=False, batch_size=1)"
      ],
      "execution_count": 30,
      "outputs": []
    },
    {
      "cell_type": "code",
      "metadata": {
        "id": "ZC8_Ngiee-ZV"
      },
      "source": [
        "# Define a baseline persistence model (next temperature value = last temperature value in input sequence)\n",
        "baseline_model = tf.keras.models.Sequential(\n",
        "    [\n",
        "     # Shape [batch, time, features]\n",
        "     # Take the last time value, and the first feature (temperature variable)\n",
        "     tf.keras.layers.Lambda(lambda x: x[:,-1,0:1])\n",
        "    ]\n",
        ")\n",
        "baseline_model.compile(loss=tf.losses.MeanSquaredError(), metrics=[tf.metrics.MeanAbsoluteError()])"
      ],
      "execution_count": 31,
      "outputs": []
    },
    {
      "cell_type": "code",
      "metadata": {
        "colab": {
          "base_uri": "https://localhost:8080/"
        },
        "id": "_iQHPZ4QTjt5",
        "outputId": "3c311c31-fc31-438e-bab8-e0729e23daa2"
      },
      "source": [
        "test_loss, test_mae = model.evaluate(test_ds)"
      ],
      "execution_count": 32,
      "outputs": [
        {
          "output_type": "stream",
          "text": [
            "6966/6966 [==============================] - 24s 3ms/step - loss: 0.4875 - mean_absolute_error: 0.4915\n"
          ],
          "name": "stdout"
        }
      ]
    },
    {
      "cell_type": "code",
      "metadata": {
        "colab": {
          "base_uri": "https://localhost:8080/"
        },
        "id": "LaE2flWEgZy7",
        "outputId": "eb4b072c-b794-4414-c37f-4aedbb8bf85a"
      },
      "source": [
        "baseline_loss, baseline_mae = baseline_model.evaluate(test_ds)"
      ],
      "execution_count": 33,
      "outputs": [
        {
          "output_type": "stream",
          "text": [
            "6966/6966 [==============================] - 15s 2ms/step - loss: 1.1394 - mean_absolute_error: 0.7791\n"
          ],
          "name": "stdout"
        }
      ]
    },
    {
      "cell_type": "markdown",
      "metadata": {
        "id": "1vPuNmbskj4c"
      },
      "source": [
        "Good news! The LSTM model outperforms the simple baseline on the test dataset.\n",
        "\n",
        "Now create a plot of actual vs predicted temperature values on a sample of the test data."
      ]
    },
    {
      "cell_type": "code",
      "metadata": {
        "id": "w_ORXStIg1wd"
      },
      "source": [
        "result = []\n",
        "for sample in test_ds.take(24 * 3): # 3 days of predictions\n",
        "  X, y = sample\n",
        "  # Forecast using LSTM\n",
        "  predicted = model.predict(X)\n",
        "  baseline = baseline_model.predict(X)\n",
        "  actual = y.numpy()\n",
        "  result.append({'LSTM': predicted.flatten()[0], 'Baseline': baseline.flatten()[0], 'Actual': actual.flatten()[0]})\n",
        "result = pd.DataFrame(result)"
      ],
      "execution_count": 34,
      "outputs": []
    },
    {
      "cell_type": "code",
      "metadata": {
        "colab": {
          "base_uri": "https://localhost:8080/",
          "height": 501
        },
        "id": "Aw-KGlY1lnsO",
        "outputId": "a86e9be0-d031-484b-81f5-5460cc427414"
      },
      "source": [
        "_ = result.plot(y=['LSTM', 'Baseline', 'Actual'], figsize=(16, 8), grid=True, xlabel='Time, hours', ylabel='Temperature, degC', fontsize=14)"
      ],
      "execution_count": 35,
      "outputs": [
        {
          "output_type": "display_data",
          "data": {
            "image/png": "[encoded data removed]",
            "text/plain": [
              "<Figure size 1152x576 with 1 Axes>"
            ]
          },
          "metadata": {
            "tags": [],
            "needs_background": "light"
          }
        }
      ]
    }
  ]
}