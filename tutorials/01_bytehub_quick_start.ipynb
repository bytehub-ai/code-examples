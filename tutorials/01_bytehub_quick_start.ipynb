{
 "cells": [
  {
   "cell_type": "markdown",
   "metadata": {
    "colab_type": "text",
    "id": "view-in-github"
   },
   "source": [
    "<a href=\"https://colab.research.google.com/github/bytehub-ai/code-examples/blob/main/tutorials/01_bytehub_quick_start.ipynb\" target=\"_parent\"><img src=\"https://colab.research.google.com/assets/colab-badge.svg\" alt=\"Open In Colab\"/></a>"
   ]
  },
  {
   "cell_type": "markdown",
   "metadata": {
    "id": "V8SbSvfK9HLl"
   },
   "source": [
    "# ByteHub Feature Store: Quick-start guide\n",
    "\n",
    "Start by installing ByteHub using pip."
   ]
  },
  {
   "cell_type": "code",
   "execution_count": 1,
   "metadata": {
    "id": "cJfqte908-kh"
   },
   "outputs": [],
   "source": [
    "!pip install -q bytehub\n",
    "!pip install -q pyarrow > 2"
   ]
  },
  {
   "cell_type": "code",
   "execution_count": 2,
   "metadata": {
    "colab": {
     "base_uri": "https://localhost:8080/"
    },
    "id": "r3M6oSUb9Ykp",
    "outputId": "8cc3a7a7-ae0f-4f17-ff54-37e0dc2a8f7e"
   },
   "outputs": [
    {
     "name": "stdout",
     "output_type": "stream",
     "text": [
      "ByteHub version 0.2.3\n"
     ]
    }
   ],
   "source": [
    "import pandas as pd\n",
    "import numpy as np\n",
    "import os\n",
    "import shutil\n",
    "import bytehub as bh\n",
    "print(f'ByteHub version {bh.__version__}')"
   ]
  },
  {
   "cell_type": "code",
   "execution_count": 3,
   "metadata": {
    "id": "pmMPr2SZ98iN"
   },
   "outputs": [],
   "source": [
    "# Remove any previously created feature stores\n",
    "try:\n",
    "    os.remove('bytehub.db')\n",
    "except FileNotFoundError:\n",
    "    pass\n",
    "try:\n",
    "    shutil.rmtree('/tmp/featurestore/tutorial')\n",
    "except FileNotFoundError:\n",
    "    pass"
   ]
  },
  {
   "cell_type": "markdown",
   "metadata": {
    "id": "XayYt1Yq9WPx"
   },
   "source": [
    "Create a new featurestore - this will be stored in a local sqlite database named `bytehub.db`."
   ]
  },
  {
   "cell_type": "code",
   "execution_count": 4,
   "metadata": {
    "id": "qWVg7Sg9-Hy3"
   },
   "outputs": [],
   "source": [
    "fs = bh.FeatureStore()"
   ]
  },
  {
   "cell_type": "markdown",
   "metadata": {
    "id": "OTE-f8fa-iy3"
   },
   "source": [
    "Next, create a namespace called `tutorial` to store some features in. Edit the url field to specify a local file storage location that you would like to use. Feature values will be saved within this folder using parquet format."
   ]
  },
  {
   "cell_type": "code",
   "execution_count": 5,
   "metadata": {
    "id": "ubaeuZ-3-TR_"
   },
   "outputs": [],
   "source": [
    "fs.create_namespace(\n",
    "    'tutorial', url='/tmp/featurestore/tutorial', description='Tutorial datasets'\n",
    ")"
   ]
  },
  {
   "cell_type": "markdown",
   "metadata": {
    "id": "Mc_guMcP-mYS"
   },
   "source": [
    "Now create a new feature inside this namespace."
   ]
  },
  {
   "cell_type": "code",
   "execution_count": 6,
   "metadata": {
    "id": "Jafz50eZ-qDD"
   },
   "outputs": [],
   "source": [
    "fs.create_feature('tutorial/numbers', description='Timeseries of numbers')"
   ]
  },
  {
   "cell_type": "markdown",
   "metadata": {
    "id": "J55q7n_H-1_M"
   },
   "source": [
    "Now we can generate a Pandas dataframe with time and value columns to store."
   ]
  },
  {
   "cell_type": "code",
   "execution_count": 7,
   "metadata": {
    "colab": {
     "base_uri": "https://localhost:8080/",
     "height": 204
    },
    "id": "OKo2F1nx-ufl",
    "outputId": "b41139f0-b039-4ad0-d055-d34b3edbb83f"
   },
   "outputs": [
    {
     "data": {
      "text/html": [
       "<div>\n",
       "<style scoped>\n",
       "    .dataframe tbody tr th:only-of-type {\n",
       "        vertical-align: middle;\n",
       "    }\n",
       "\n",
       "    .dataframe tbody tr th {\n",
       "        vertical-align: top;\n",
       "    }\n",
       "\n",
       "    .dataframe thead th {\n",
       "        text-align: right;\n",
       "    }\n",
       "</style>\n",
       "<table border=\"1\" class=\"dataframe\">\n",
       "  <thead>\n",
       "    <tr style=\"text-align: right;\">\n",
       "      <th></th>\n",
       "      <th>time</th>\n",
       "      <th>value</th>\n",
       "    </tr>\n",
       "  </thead>\n",
       "  <tbody>\n",
       "    <tr>\n",
       "      <th>0</th>\n",
       "      <td>2020-01-01</td>\n",
       "      <td>0</td>\n",
       "    </tr>\n",
       "    <tr>\n",
       "      <th>1</th>\n",
       "      <td>2020-01-02</td>\n",
       "      <td>1</td>\n",
       "    </tr>\n",
       "    <tr>\n",
       "      <th>2</th>\n",
       "      <td>2020-01-03</td>\n",
       "      <td>2</td>\n",
       "    </tr>\n",
       "    <tr>\n",
       "      <th>3</th>\n",
       "      <td>2020-01-04</td>\n",
       "      <td>3</td>\n",
       "    </tr>\n",
       "    <tr>\n",
       "      <th>4</th>\n",
       "      <td>2020-01-05</td>\n",
       "      <td>4</td>\n",
       "    </tr>\n",
       "  </tbody>\n",
       "</table>\n",
       "</div>"
      ],
      "text/plain": [
       "        time  value\n",
       "0 2020-01-01      0\n",
       "1 2020-01-02      1\n",
       "2 2020-01-03      2\n",
       "3 2020-01-04      3\n",
       "4 2020-01-05      4"
      ]
     },
     "execution_count": 7,
     "metadata": {
      "tags": []
     },
     "output_type": "execute_result"
    }
   ],
   "source": [
    "dts = pd.date_range('2020-01-01', '2021-02-09')\n",
    "df = pd.DataFrame({'time': dts, 'value': list(range(len(dts)))})\n",
    "\n",
    "df.head()"
   ]
  },
  {
   "cell_type": "code",
   "execution_count": 8,
   "metadata": {
    "id": "E-LHnWF1-7CN"
   },
   "outputs": [],
   "source": [
    "fs.save_dataframe(df, 'tutorial/numbers')"
   ]
  },
  {
   "cell_type": "markdown",
   "metadata": {
    "id": "wEVK9CLs_gFi"
   },
   "source": [
    "Now for some feature engineering. Suppose we want to create another feature called `tutorial/squared` that contains the square of every value in `tutorial/number`. To do this, define a transform as shown below. The transform receives a dataframe of everything in from_features and should return a series/dataframe of transformed timeseries values"
   ]
  },
  {
   "cell_type": "code",
   "execution_count": 9,
   "metadata": {
    "id": "MmSOzyqL_DBI"
   },
   "outputs": [],
   "source": [
    "@fs.transform('tutorial/squared', from_features=['tutorial/numbers'])\n",
    "def squared_numbers(df):\n",
    "    return df ** 2 # Square the input"
   ]
  },
  {
   "cell_type": "markdown",
   "metadata": {
    "id": "6ziuaIZG_9Wi"
   },
   "source": [
    "We can now look at some of our timeseries data by using the `load_dataframe` method."
   ]
  },
  {
   "cell_type": "code",
   "execution_count": 10,
   "metadata": {
    "colab": {
     "base_uri": "https://localhost:8080/",
     "height": 235
    },
    "id": "jt8j18AT_5Hf",
    "outputId": "c260605a-9e4e-4332-b44c-fab4f8207836"
   },
   "outputs": [
    {
     "data": {
      "text/html": [
       "<div>\n",
       "<style scoped>\n",
       "    .dataframe tbody tr th:only-of-type {\n",
       "        vertical-align: middle;\n",
       "    }\n",
       "\n",
       "    .dataframe tbody tr th {\n",
       "        vertical-align: top;\n",
       "    }\n",
       "\n",
       "    .dataframe thead th {\n",
       "        text-align: right;\n",
       "    }\n",
       "</style>\n",
       "<table border=\"1\" class=\"dataframe\">\n",
       "  <thead>\n",
       "    <tr style=\"text-align: right;\">\n",
       "      <th></th>\n",
       "      <th>tutorial/numbers</th>\n",
       "      <th>tutorial/squared</th>\n",
       "    </tr>\n",
       "    <tr>\n",
       "      <th>time</th>\n",
       "      <th></th>\n",
       "      <th></th>\n",
       "    </tr>\n",
       "  </thead>\n",
       "  <tbody>\n",
       "    <tr>\n",
       "      <th>2021-01-01</th>\n",
       "      <td>366</td>\n",
       "      <td>133956</td>\n",
       "    </tr>\n",
       "    <tr>\n",
       "      <th>2021-01-02</th>\n",
       "      <td>367</td>\n",
       "      <td>134689</td>\n",
       "    </tr>\n",
       "    <tr>\n",
       "      <th>2021-01-03</th>\n",
       "      <td>368</td>\n",
       "      <td>135424</td>\n",
       "    </tr>\n",
       "    <tr>\n",
       "      <th>2021-01-04</th>\n",
       "      <td>369</td>\n",
       "      <td>136161</td>\n",
       "    </tr>\n",
       "    <tr>\n",
       "      <th>2021-01-05</th>\n",
       "      <td>370</td>\n",
       "      <td>136900</td>\n",
       "    </tr>\n",
       "  </tbody>\n",
       "</table>\n",
       "</div>"
      ],
      "text/plain": [
       "            tutorial/numbers  tutorial/squared\n",
       "time                                          \n",
       "2021-01-01               366            133956\n",
       "2021-01-02               367            134689\n",
       "2021-01-03               368            135424\n",
       "2021-01-04               369            136161\n",
       "2021-01-05               370            136900"
      ]
     },
     "execution_count": 10,
     "metadata": {
      "tags": []
     },
     "output_type": "execute_result"
    }
   ],
   "source": [
    "df_query = fs.load_dataframe(\n",
    "    ['tutorial/numbers', 'tutorial/squared'],\n",
    "    from_date='2021-01-01', to_date='2021-01-31'\n",
    ")\n",
    "df_query.head()"
   ]
  },
  {
   "cell_type": "markdown",
   "metadata": {
    "id": "67EnXk9jANT-"
   },
   "source": [
    "Using the load_dataframe method, we can easily join, resample and filter the features."
   ]
  },
  {
   "cell_type": "code",
   "execution_count": 11,
   "metadata": {
    "colab": {
     "base_uri": "https://localhost:8080/",
     "height": 204
    },
    "id": "abxz1iyL_uTB",
    "outputId": "7d0b979b-d9ad-4987-9cbf-17e719c53974"
   },
   "outputs": [
    {
     "data": {
      "text/html": [
       "<div>\n",
       "<style scoped>\n",
       "    .dataframe tbody tr th:only-of-type {\n",
       "        vertical-align: middle;\n",
       "    }\n",
       "\n",
       "    .dataframe tbody tr th {\n",
       "        vertical-align: top;\n",
       "    }\n",
       "\n",
       "    .dataframe thead th {\n",
       "        text-align: right;\n",
       "    }\n",
       "</style>\n",
       "<table border=\"1\" class=\"dataframe\">\n",
       "  <thead>\n",
       "    <tr style=\"text-align: right;\">\n",
       "      <th></th>\n",
       "      <th>tutorial/numbers</th>\n",
       "      <th>tutorial/squared</th>\n",
       "    </tr>\n",
       "  </thead>\n",
       "  <tbody>\n",
       "    <tr>\n",
       "      <th>2020-01-31</th>\n",
       "      <td>30</td>\n",
       "      <td>900</td>\n",
       "    </tr>\n",
       "    <tr>\n",
       "      <th>2020-02-29</th>\n",
       "      <td>59</td>\n",
       "      <td>3481</td>\n",
       "    </tr>\n",
       "    <tr>\n",
       "      <th>2020-03-31</th>\n",
       "      <td>90</td>\n",
       "      <td>8100</td>\n",
       "    </tr>\n",
       "    <tr>\n",
       "      <th>2020-04-30</th>\n",
       "      <td>120</td>\n",
       "      <td>14400</td>\n",
       "    </tr>\n",
       "    <tr>\n",
       "      <th>2020-05-31</th>\n",
       "      <td>151</td>\n",
       "      <td>22801</td>\n",
       "    </tr>\n",
       "  </tbody>\n",
       "</table>\n",
       "</div>"
      ],
      "text/plain": [
       "            tutorial/numbers  tutorial/squared\n",
       "2020-01-31                30               900\n",
       "2020-02-29                59              3481\n",
       "2020-03-31                90              8100\n",
       "2020-04-30               120             14400\n",
       "2020-05-31               151             22801"
      ]
     },
     "execution_count": 11,
     "metadata": {
      "tags": []
     },
     "output_type": "execute_result"
    }
   ],
   "source": [
    "df_query = fs.load_dataframe(\n",
    "    ['tutorial/numbers', 'tutorial/squared'],\n",
    "    from_date='2020-01-01', to_date='2020-12-31', freq='1M'\n",
    ")\n",
    "df_query.head()"
   ]
  },
  {
   "cell_type": "markdown",
   "metadata": {
    "id": "ZlFlrt0ZATDA"
   },
   "source": [
    "ByteHub also provides tools to list and search the contents of the feature store."
   ]
  },
  {
   "cell_type": "code",
   "execution_count": 12,
   "metadata": {
    "colab": {
     "base_uri": "https://localhost:8080/",
     "height": 111
    },
    "id": "UXNhCw_zAXTu",
    "outputId": "ec784e8e-5a33-4549-d93d-f7ee4a6b2dd5"
   },
   "outputs": [
    {
     "data": {
      "text/html": [
       "<div>\n",
       "<style scoped>\n",
       "    .dataframe tbody tr th:only-of-type {\n",
       "        vertical-align: middle;\n",
       "    }\n",
       "\n",
       "    .dataframe tbody tr th {\n",
       "        vertical-align: top;\n",
       "    }\n",
       "\n",
       "    .dataframe thead th {\n",
       "        text-align: right;\n",
       "    }\n",
       "</style>\n",
       "<table border=\"1\" class=\"dataframe\">\n",
       "  <thead>\n",
       "    <tr style=\"text-align: right;\">\n",
       "      <th></th>\n",
       "      <th>namespace</th>\n",
       "      <th>name</th>\n",
       "      <th>version</th>\n",
       "      <th>description</th>\n",
       "      <th>meta</th>\n",
       "      <th>partition</th>\n",
       "      <th>serialized</th>\n",
       "      <th>transform</th>\n",
       "    </tr>\n",
       "  </thead>\n",
       "  <tbody>\n",
       "    <tr>\n",
       "      <th>0</th>\n",
       "      <td>tutorial</td>\n",
       "      <td>numbers</td>\n",
       "      <td>1</td>\n",
       "      <td>Timeseries of numbers</td>\n",
       "      <td>{}</td>\n",
       "      <td>date</td>\n",
       "      <td>False</td>\n",
       "      <td>False</td>\n",
       "    </tr>\n",
       "    <tr>\n",
       "      <th>1</th>\n",
       "      <td>tutorial</td>\n",
       "      <td>squared</td>\n",
       "      <td>1</td>\n",
       "      <td></td>\n",
       "      <td>{}</td>\n",
       "      <td>date</td>\n",
       "      <td>False</td>\n",
       "      <td>True</td>\n",
       "    </tr>\n",
       "  </tbody>\n",
       "</table>\n",
       "</div>"
      ],
      "text/plain": [
       "  namespace     name  version  ... partition serialized transform\n",
       "0  tutorial  numbers        1  ...      date      False     False\n",
       "1  tutorial  squared        1  ...      date      False      True\n",
       "\n",
       "[2 rows x 8 columns]"
      ]
     },
     "execution_count": 12,
     "metadata": {
      "tags": []
     },
     "output_type": "execute_result"
    }
   ],
   "source": [
    "fs.list_features()"
   ]
  },
  {
   "cell_type": "markdown",
   "metadata": {
    "id": "kTPZQ-xyBkOn"
   },
   "source": [
    "We can add key/value pairs of metadata to a feature."
   ]
  },
  {
   "cell_type": "code",
   "execution_count": 13,
   "metadata": {
    "id": "XKTYsCHFBfVO"
   },
   "outputs": [],
   "source": [
    "fs.update_feature('tutorial/numbers', meta={'source': 'ByteHub tutorial'})"
   ]
  },
  {
   "cell_type": "code",
   "execution_count": 14,
   "metadata": {
    "colab": {
     "base_uri": "https://localhost:8080/",
     "height": 80
    },
    "id": "54xFav17Ancw",
    "outputId": "55648df8-ef11-4d0a-f30d-b0886e91abf5"
   },
   "outputs": [
    {
     "data": {
      "text/html": [
       "<div>\n",
       "<style scoped>\n",
       "    .dataframe tbody tr th:only-of-type {\n",
       "        vertical-align: middle;\n",
       "    }\n",
       "\n",
       "    .dataframe tbody tr th {\n",
       "        vertical-align: top;\n",
       "    }\n",
       "\n",
       "    .dataframe thead th {\n",
       "        text-align: right;\n",
       "    }\n",
       "</style>\n",
       "<table border=\"1\" class=\"dataframe\">\n",
       "  <thead>\n",
       "    <tr style=\"text-align: right;\">\n",
       "      <th></th>\n",
       "      <th>namespace</th>\n",
       "      <th>name</th>\n",
       "      <th>version</th>\n",
       "      <th>description</th>\n",
       "      <th>meta</th>\n",
       "      <th>partition</th>\n",
       "      <th>serialized</th>\n",
       "      <th>transform</th>\n",
       "    </tr>\n",
       "  </thead>\n",
       "  <tbody>\n",
       "    <tr>\n",
       "      <th>0</th>\n",
       "      <td>tutorial</td>\n",
       "      <td>numbers</td>\n",
       "      <td>2</td>\n",
       "      <td>Timeseries of numbers</td>\n",
       "      <td>{'source': 'ByteHub tutorial'}</td>\n",
       "      <td>date</td>\n",
       "      <td>False</td>\n",
       "      <td>False</td>\n",
       "    </tr>\n",
       "  </tbody>\n",
       "</table>\n",
       "</div>"
      ],
      "text/plain": [
       "  namespace     name  version  ... partition serialized transform\n",
       "0  tutorial  numbers        2  ...      date      False     False\n",
       "\n",
       "[1 rows x 8 columns]"
      ]
     },
     "execution_count": 14,
     "metadata": {
      "tags": []
     },
     "output_type": "execute_result"
    }
   ],
   "source": [
    "fs.list_features(regex=r'num.')"
   ]
  },
  {
   "cell_type": "markdown",
   "metadata": {
    "id": "Ni88it8DAxik"
   },
   "source": [
    "We can also copy features along with all of their data using the `clone_feature` method."
   ]
  },
  {
   "cell_type": "code",
   "execution_count": 15,
   "metadata": {
    "colab": {
     "base_uri": "https://localhost:8080/",
     "height": 142
    },
    "id": "Q090CpQhAu5C",
    "outputId": "17142675-b106-4d8f-b190-c39e394917ad"
   },
   "outputs": [
    {
     "data": {
      "text/html": [
       "<div>\n",
       "<style scoped>\n",
       "    .dataframe tbody tr th:only-of-type {\n",
       "        vertical-align: middle;\n",
       "    }\n",
       "\n",
       "    .dataframe tbody tr th {\n",
       "        vertical-align: top;\n",
       "    }\n",
       "\n",
       "    .dataframe thead th {\n",
       "        text-align: right;\n",
       "    }\n",
       "</style>\n",
       "<table border=\"1\" class=\"dataframe\">\n",
       "  <thead>\n",
       "    <tr style=\"text-align: right;\">\n",
       "      <th></th>\n",
       "      <th>namespace</th>\n",
       "      <th>name</th>\n",
       "      <th>version</th>\n",
       "      <th>description</th>\n",
       "      <th>meta</th>\n",
       "      <th>partition</th>\n",
       "      <th>serialized</th>\n",
       "      <th>transform</th>\n",
       "    </tr>\n",
       "  </thead>\n",
       "  <tbody>\n",
       "    <tr>\n",
       "      <th>0</th>\n",
       "      <td>tutorial</td>\n",
       "      <td>numbers</td>\n",
       "      <td>2</td>\n",
       "      <td>Timeseries of numbers</td>\n",
       "      <td>{'source': 'ByteHub tutorial'}</td>\n",
       "      <td>date</td>\n",
       "      <td>False</td>\n",
       "      <td>False</td>\n",
       "    </tr>\n",
       "    <tr>\n",
       "      <th>1</th>\n",
       "      <td>tutorial</td>\n",
       "      <td>squared</td>\n",
       "      <td>1</td>\n",
       "      <td></td>\n",
       "      <td>{}</td>\n",
       "      <td>date</td>\n",
       "      <td>False</td>\n",
       "      <td>True</td>\n",
       "    </tr>\n",
       "    <tr>\n",
       "      <th>2</th>\n",
       "      <td>tutorial</td>\n",
       "      <td>copy-of-numbers</td>\n",
       "      <td>3</td>\n",
       "      <td>Timeseries of numbers</td>\n",
       "      <td>{'source': 'ByteHub tutorial'}</td>\n",
       "      <td>date</td>\n",
       "      <td>False</td>\n",
       "      <td>False</td>\n",
       "    </tr>\n",
       "  </tbody>\n",
       "</table>\n",
       "</div>"
      ],
      "text/plain": [
       "  namespace             name  version  ... partition serialized transform\n",
       "0  tutorial          numbers        2  ...      date      False     False\n",
       "1  tutorial          squared        1  ...      date      False      True\n",
       "2  tutorial  copy-of-numbers        3  ...      date      False     False\n",
       "\n",
       "[3 rows x 8 columns]"
      ]
     },
     "execution_count": 15,
     "metadata": {
      "tags": []
     },
     "output_type": "execute_result"
    }
   ],
   "source": [
    "fs.clone_feature('tutorial/copy-of-numbers', from_name='tutorial/numbers')\n",
    "fs.list_features()"
   ]
  },
  {
   "cell_type": "markdown",
   "metadata": {
    "id": "oDy9AABaBKAF"
   },
   "source": [
    "For inference on new data, we might want to simply retrieve the last value of each feature."
   ]
  },
  {
   "cell_type": "code",
   "execution_count": 16,
   "metadata": {
    "colab": {
     "base_uri": "https://localhost:8080/"
    },
    "id": "0wU37qn-BC-O",
    "outputId": "d0ebfbae-3d6b-4f53-dd13-a1fe2f9a7645"
   },
   "outputs": [
    {
     "data": {
      "text/plain": [
       "{'tutorial/copy-of-numbers': 405,\n",
       " 'tutorial/numbers': 405,\n",
       " 'tutorial/squared': 164025}"
      ]
     },
     "execution_count": 16,
     "metadata": {
      "tags": []
     },
     "output_type": "execute_result"
    }
   ],
   "source": [
    "fs.last(['tutorial/numbers', 'tutorial/squared', 'tutorial/copy-of-numbers'])"
   ]
  }
 ],
 "metadata": {
  "colab": {
   "authorship_tag": "ABX9TyMWr7PIx3MEJTwcz35YWnYP",
   "include_colab_link": true,
   "name": "01-bytehub-quick-start.ipynb",
   "provenance": []
  },
  "kernelspec": {
   "display_name": "Python 3",
   "language": "python",
   "name": "python3"
  },
  "language_info": {
   "codemirror_mode": {
    "name": "ipython",
    "version": 3
   },
   "file_extension": ".py",
   "mimetype": "text/x-python",
   "name": "python",
   "nbconvert_exporter": "python",
   "pygments_lexer": "ipython3",
   "version": "3.7.3"
  }
 },
 "nbformat": 4,
 "nbformat_minor": 1
}
