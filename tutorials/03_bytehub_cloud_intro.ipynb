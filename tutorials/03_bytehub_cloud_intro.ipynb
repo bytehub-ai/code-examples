{
  "nbformat": 4,
  "nbformat_minor": 0,
  "metadata": {
    "colab": {
      "name": "03-bytehub-cloud-intro.ipynb",
      "provenance": [],
      "include_colab_link": true
    },
    "kernelspec": {
      "display_name": "Python 3",
      "language": "python",
      "name": "python3"
    },
    "language_info": {
      "codemirror_mode": {
        "name": "ipython",
        "version": 3
      },
      "file_extension": ".py",
      "mimetype": "text/x-python",
      "name": "python",
      "nbconvert_exporter": "python",
      "pygments_lexer": "ipython3",
      "version": "3.7.3"
    }
  },
  "cells": [
    {
      "cell_type": "markdown",
      "metadata": {
        "id": "view-in-github",
        "colab_type": "text"
      },
      "source": [
        "<a href=\"https://colab.research.google.com/github/bytehub-ai/code-examples/blob/main/tutorials/03_bytehub_cloud_intro.ipynb\" target=\"_parent\"><img src=\"https://colab.research.google.com/assets/colab-badge.svg\" alt=\"Open In Colab\"/></a>"
      ]
    },
    {
      "cell_type": "markdown",
      "metadata": {
        "id": "V8SbSvfK9HLl"
      },
      "source": [
        "# ByteHub Cloud introduction\n",
        "\n",
        "Start by installing ByteHub using pip. Use `bytehub[cloud]` to get extra dependencies."
      ]
    },
    {
      "cell_type": "code",
      "metadata": {
        "id": "cJfqte908-kh"
      },
      "source": [
        "!pip install -q bytehub[cloud]"
      ],
      "execution_count": 1,
      "outputs": []
    },
    {
      "cell_type": "code",
      "metadata": {
        "colab": {
          "base_uri": "https://localhost:8080/"
        },
        "id": "r3M6oSUb9Ykp",
        "outputId": "9f4ebe4d-41dd-492b-d832-503dbabed71a"
      },
      "source": [
        "import pandas as pd\n",
        "import numpy as np\n",
        "import os\n",
        "import shutil\n",
        "import bytehub as bh\n",
        "print(f'ByteHub version {bh.__version__}')"
      ],
      "execution_count": 2,
      "outputs": [
        {
          "output_type": "stream",
          "text": [
            "ByteHub version 0.3.4\n"
          ],
          "name": "stdout"
        }
      ]
    },
    {
      "cell_type": "markdown",
      "metadata": {
        "id": "XayYt1Yq9WPx"
      },
      "source": [
        "Connect to the cloud-hosted feature store and login. [Contact us](https://www.bytehub.ai/feature-store/request-access) to register for an account."
      ]
    },
    {
      "cell_type": "code",
      "metadata": {
        "id": "qWVg7Sg9-Hy3",
        "colab": {
          "base_uri": "https://localhost:8080/"
        },
        "outputId": "beb6a93c-be7e-4ca1-c8e2-c60caa361c18"
      },
      "source": [
        "fs = bh.CloudFeatureStore()"
      ],
      "execution_count": 3,
      "outputs": [
        {
          "output_type": "stream",
          "text": [
            "Please go to https://auth.bytehub.ai/login?response_type=code&client_id=67lckd9mdmb8h3obkr8jtndamt&redirect_uri=https%3A%2F%2Fwww.bytehub.ai%2Fauthenticated&state=CJYkToWP1sQXIYRMpl0BARilNgpESW and login. Copy the response code and paste below.\n",
            "Response: ··········\n"
          ],
          "name": "stdout"
        }
      ]
    },
    {
      "cell_type": "code",
      "metadata": {
        "id": "VjMRE9iELtmO",
        "colab": {
          "base_uri": "https://localhost:8080/",
          "height": 204
        },
        "outputId": "bf478d8d-1156-4a2c-f073-98e8626e769d"
      },
      "source": [
        "fs.list_features()"
      ],
      "execution_count": 4,
      "outputs": [
        {
          "output_type": "execute_result",
          "data": {
            "text/html": [
              "<div>\n",
              "<style scoped>\n",
              "    .dataframe tbody tr th:only-of-type {\n",
              "        vertical-align: middle;\n",
              "    }\n",
              "\n",
              "    .dataframe tbody tr th {\n",
              "        vertical-align: top;\n",
              "    }\n",
              "\n",
              "    .dataframe thead th {\n",
              "        text-align: right;\n",
              "    }\n",
              "</style>\n",
              "<table border=\"1\" class=\"dataframe\">\n",
              "  <thead>\n",
              "    <tr style=\"text-align: right;\">\n",
              "      <th></th>\n",
              "      <th>namespace</th>\n",
              "      <th>name</th>\n",
              "      <th>version</th>\n",
              "      <th>description</th>\n",
              "      <th>meta</th>\n",
              "      <th>partition</th>\n",
              "      <th>serialized</th>\n",
              "      <th>transform</th>\n",
              "    </tr>\n",
              "  </thead>\n",
              "  <tbody>\n",
              "    <tr>\n",
              "      <th>0</th>\n",
              "      <td>toby</td>\n",
              "      <td>rawdata.carbon</td>\n",
              "      <td>1</td>\n",
              "      <td></td>\n",
              "      <td>{}</td>\n",
              "      <td>year</td>\n",
              "      <td>True</td>\n",
              "      <td>False</td>\n",
              "    </tr>\n",
              "    <tr>\n",
              "      <th>1</th>\n",
              "      <td>toby</td>\n",
              "      <td>rawdata.generation</td>\n",
              "      <td>1</td>\n",
              "      <td></td>\n",
              "      <td>{}</td>\n",
              "      <td>year</td>\n",
              "      <td>True</td>\n",
              "      <td>False</td>\n",
              "    </tr>\n",
              "    <tr>\n",
              "      <th>2</th>\n",
              "      <td>toby</td>\n",
              "      <td>feature.carbon-forecast</td>\n",
              "      <td>1</td>\n",
              "      <td></td>\n",
              "      <td>{}</td>\n",
              "      <td>date</td>\n",
              "      <td>False</td>\n",
              "      <td>True</td>\n",
              "    </tr>\n",
              "    <tr>\n",
              "      <th>3</th>\n",
              "      <td>toby</td>\n",
              "      <td>feature.carbon-actual</td>\n",
              "      <td>1</td>\n",
              "      <td></td>\n",
              "      <td>{}</td>\n",
              "      <td>date</td>\n",
              "      <td>False</td>\n",
              "      <td>True</td>\n",
              "    </tr>\n",
              "    <tr>\n",
              "      <th>4</th>\n",
              "      <td>toby</td>\n",
              "      <td>feature.low-carbon-fuels</td>\n",
              "      <td>1</td>\n",
              "      <td></td>\n",
              "      <td>{}</td>\n",
              "      <td>date</td>\n",
              "      <td>False</td>\n",
              "      <td>True</td>\n",
              "    </tr>\n",
              "  </tbody>\n",
              "</table>\n",
              "</div>"
            ],
            "text/plain": [
              "  namespace                      name  version  ... partition serialized transform\n",
              "0      toby            rawdata.carbon        1  ...      year       True     False\n",
              "1      toby        rawdata.generation        1  ...      year       True     False\n",
              "2      toby   feature.carbon-forecast        1  ...      date      False      True\n",
              "3      toby     feature.carbon-actual        1  ...      date      False      True\n",
              "4      toby  feature.low-carbon-fuels        1  ...      date      False      True\n",
              "\n",
              "[5 rows x 8 columns]"
            ]
          },
          "metadata": {
            "tags": []
          },
          "execution_count": 4
        }
      ]
    },
    {
      "cell_type": "markdown",
      "metadata": {
        "id": "Mc_guMcP-mYS"
      },
      "source": [
        "All features will be stored inside a namespace corresponding to your username. For example, to create a new feature:"
      ]
    },
    {
      "cell_type": "code",
      "metadata": {
        "id": "Jafz50eZ-qDD"
      },
      "source": [
        "# Edit this to match your own username\n",
        "fs.create_feature('toby/numbers', description='Timeseries of numbers', partition='year')"
      ],
      "execution_count": 5,
      "outputs": []
    },
    {
      "cell_type": "markdown",
      "metadata": {
        "id": "J55q7n_H-1_M"
      },
      "source": [
        "Now we can generate a Pandas dataframe with time and value columns to store."
      ]
    },
    {
      "cell_type": "code",
      "metadata": {
        "colab": {
          "base_uri": "https://localhost:8080/",
          "height": 204
        },
        "id": "OKo2F1nx-ufl",
        "outputId": "bf06a3f2-4555-4b8b-e6d9-e0d1162b95b9"
      },
      "source": [
        "dts = pd.date_range('2020-01-01', '2021-02-09')\n",
        "df = pd.DataFrame({'time': dts, 'value': list(range(len(dts)))})\n",
        "\n",
        "df.head()"
      ],
      "execution_count": 6,
      "outputs": [
        {
          "output_type": "execute_result",
          "data": {
            "text/html": [
              "<div>\n",
              "<style scoped>\n",
              "    .dataframe tbody tr th:only-of-type {\n",
              "        vertical-align: middle;\n",
              "    }\n",
              "\n",
              "    .dataframe tbody tr th {\n",
              "        vertical-align: top;\n",
              "    }\n",
              "\n",
              "    .dataframe thead th {\n",
              "        text-align: right;\n",
              "    }\n",
              "</style>\n",
              "<table border=\"1\" class=\"dataframe\">\n",
              "  <thead>\n",
              "    <tr style=\"text-align: right;\">\n",
              "      <th></th>\n",
              "      <th>time</th>\n",
              "      <th>value</th>\n",
              "    </tr>\n",
              "  </thead>\n",
              "  <tbody>\n",
              "    <tr>\n",
              "      <th>0</th>\n",
              "      <td>2020-01-01</td>\n",
              "      <td>0</td>\n",
              "    </tr>\n",
              "    <tr>\n",
              "      <th>1</th>\n",
              "      <td>2020-01-02</td>\n",
              "      <td>1</td>\n",
              "    </tr>\n",
              "    <tr>\n",
              "      <th>2</th>\n",
              "      <td>2020-01-03</td>\n",
              "      <td>2</td>\n",
              "    </tr>\n",
              "    <tr>\n",
              "      <th>3</th>\n",
              "      <td>2020-01-04</td>\n",
              "      <td>3</td>\n",
              "    </tr>\n",
              "    <tr>\n",
              "      <th>4</th>\n",
              "      <td>2020-01-05</td>\n",
              "      <td>4</td>\n",
              "    </tr>\n",
              "  </tbody>\n",
              "</table>\n",
              "</div>"
            ],
            "text/plain": [
              "        time  value\n",
              "0 2020-01-01      0\n",
              "1 2020-01-02      1\n",
              "2 2020-01-03      2\n",
              "3 2020-01-04      3\n",
              "4 2020-01-05      4"
            ]
          },
          "metadata": {
            "tags": []
          },
          "execution_count": 6
        }
      ]
    },
    {
      "cell_type": "code",
      "metadata": {
        "id": "E-LHnWF1-7CN"
      },
      "source": [
        "fs.save_dataframe(df, 'toby/numbers')"
      ],
      "execution_count": 7,
      "outputs": []
    },
    {
      "cell_type": "markdown",
      "metadata": {
        "id": "jqNN6KOBTuhN"
      },
      "source": [
        "This data is now stored securely on the cloud. Let's read it back and try some resampling operations."
      ]
    },
    {
      "cell_type": "code",
      "metadata": {
        "id": "hcfhMbJaTt2p",
        "colab": {
          "base_uri": "https://localhost:8080/",
          "height": 1000
        },
        "outputId": "8a20bf39-3142-46d7-b160-16170aff764a"
      },
      "source": [
        "fs.load_dataframe('toby/numbers', from_date='2020-10-01', to_date='2020-10-31') # Query date range"
      ],
      "execution_count": 8,
      "outputs": [
        {
          "output_type": "execute_result",
          "data": {
            "text/html": [
              "<div>\n",
              "<style scoped>\n",
              "    .dataframe tbody tr th:only-of-type {\n",
              "        vertical-align: middle;\n",
              "    }\n",
              "\n",
              "    .dataframe tbody tr th {\n",
              "        vertical-align: top;\n",
              "    }\n",
              "\n",
              "    .dataframe thead th {\n",
              "        text-align: right;\n",
              "    }\n",
              "</style>\n",
              "<table border=\"1\" class=\"dataframe\">\n",
              "  <thead>\n",
              "    <tr style=\"text-align: right;\">\n",
              "      <th></th>\n",
              "      <th>toby/numbers</th>\n",
              "    </tr>\n",
              "    <tr>\n",
              "      <th>time</th>\n",
              "      <th></th>\n",
              "    </tr>\n",
              "  </thead>\n",
              "  <tbody>\n",
              "    <tr>\n",
              "      <th>2020-10-01</th>\n",
              "      <td>274</td>\n",
              "    </tr>\n",
              "    <tr>\n",
              "      <th>2020-10-02</th>\n",
              "      <td>275</td>\n",
              "    </tr>\n",
              "    <tr>\n",
              "      <th>2020-10-03</th>\n",
              "      <td>276</td>\n",
              "    </tr>\n",
              "    <tr>\n",
              "      <th>2020-10-04</th>\n",
              "      <td>277</td>\n",
              "    </tr>\n",
              "    <tr>\n",
              "      <th>2020-10-05</th>\n",
              "      <td>278</td>\n",
              "    </tr>\n",
              "    <tr>\n",
              "      <th>2020-10-06</th>\n",
              "      <td>279</td>\n",
              "    </tr>\n",
              "    <tr>\n",
              "      <th>2020-10-07</th>\n",
              "      <td>280</td>\n",
              "    </tr>\n",
              "    <tr>\n",
              "      <th>2020-10-08</th>\n",
              "      <td>281</td>\n",
              "    </tr>\n",
              "    <tr>\n",
              "      <th>2020-10-09</th>\n",
              "      <td>282</td>\n",
              "    </tr>\n",
              "    <tr>\n",
              "      <th>2020-10-10</th>\n",
              "      <td>283</td>\n",
              "    </tr>\n",
              "    <tr>\n",
              "      <th>2020-10-11</th>\n",
              "      <td>284</td>\n",
              "    </tr>\n",
              "    <tr>\n",
              "      <th>2020-10-12</th>\n",
              "      <td>285</td>\n",
              "    </tr>\n",
              "    <tr>\n",
              "      <th>2020-10-13</th>\n",
              "      <td>286</td>\n",
              "    </tr>\n",
              "    <tr>\n",
              "      <th>2020-10-14</th>\n",
              "      <td>287</td>\n",
              "    </tr>\n",
              "    <tr>\n",
              "      <th>2020-10-15</th>\n",
              "      <td>288</td>\n",
              "    </tr>\n",
              "    <tr>\n",
              "      <th>2020-10-16</th>\n",
              "      <td>289</td>\n",
              "    </tr>\n",
              "    <tr>\n",
              "      <th>2020-10-17</th>\n",
              "      <td>290</td>\n",
              "    </tr>\n",
              "    <tr>\n",
              "      <th>2020-10-18</th>\n",
              "      <td>291</td>\n",
              "    </tr>\n",
              "    <tr>\n",
              "      <th>2020-10-19</th>\n",
              "      <td>292</td>\n",
              "    </tr>\n",
              "    <tr>\n",
              "      <th>2020-10-20</th>\n",
              "      <td>293</td>\n",
              "    </tr>\n",
              "    <tr>\n",
              "      <th>2020-10-21</th>\n",
              "      <td>294</td>\n",
              "    </tr>\n",
              "    <tr>\n",
              "      <th>2020-10-22</th>\n",
              "      <td>295</td>\n",
              "    </tr>\n",
              "    <tr>\n",
              "      <th>2020-10-23</th>\n",
              "      <td>296</td>\n",
              "    </tr>\n",
              "    <tr>\n",
              "      <th>2020-10-24</th>\n",
              "      <td>297</td>\n",
              "    </tr>\n",
              "    <tr>\n",
              "      <th>2020-10-25</th>\n",
              "      <td>298</td>\n",
              "    </tr>\n",
              "    <tr>\n",
              "      <th>2020-10-26</th>\n",
              "      <td>299</td>\n",
              "    </tr>\n",
              "    <tr>\n",
              "      <th>2020-10-27</th>\n",
              "      <td>300</td>\n",
              "    </tr>\n",
              "    <tr>\n",
              "      <th>2020-10-28</th>\n",
              "      <td>301</td>\n",
              "    </tr>\n",
              "    <tr>\n",
              "      <th>2020-10-29</th>\n",
              "      <td>302</td>\n",
              "    </tr>\n",
              "    <tr>\n",
              "      <th>2020-10-30</th>\n",
              "      <td>303</td>\n",
              "    </tr>\n",
              "    <tr>\n",
              "      <th>2020-10-31</th>\n",
              "      <td>304</td>\n",
              "    </tr>\n",
              "  </tbody>\n",
              "</table>\n",
              "</div>"
            ],
            "text/plain": [
              "            toby/numbers\n",
              "time                    \n",
              "2020-10-01           274\n",
              "2020-10-02           275\n",
              "2020-10-03           276\n",
              "2020-10-04           277\n",
              "2020-10-05           278\n",
              "2020-10-06           279\n",
              "2020-10-07           280\n",
              "2020-10-08           281\n",
              "2020-10-09           282\n",
              "2020-10-10           283\n",
              "2020-10-11           284\n",
              "2020-10-12           285\n",
              "2020-10-13           286\n",
              "2020-10-14           287\n",
              "2020-10-15           288\n",
              "2020-10-16           289\n",
              "2020-10-17           290\n",
              "2020-10-18           291\n",
              "2020-10-19           292\n",
              "2020-10-20           293\n",
              "2020-10-21           294\n",
              "2020-10-22           295\n",
              "2020-10-23           296\n",
              "2020-10-24           297\n",
              "2020-10-25           298\n",
              "2020-10-26           299\n",
              "2020-10-27           300\n",
              "2020-10-28           301\n",
              "2020-10-29           302\n",
              "2020-10-30           303\n",
              "2020-10-31           304"
            ]
          },
          "metadata": {
            "tags": []
          },
          "execution_count": 8
        }
      ]
    },
    {
      "cell_type": "code",
      "metadata": {
        "id": "PHXQd0G_TDwr",
        "colab": {
          "base_uri": "https://localhost:8080/",
          "height": 452
        },
        "outputId": "992535ea-f1ce-409f-cc95-268ab96c12f0"
      },
      "source": [
        "fs.load_dataframe('toby/numbers', freq='1M') # Monthly sampling"
      ],
      "execution_count": 9,
      "outputs": [
        {
          "output_type": "execute_result",
          "data": {
            "text/html": [
              "<div>\n",
              "<style scoped>\n",
              "    .dataframe tbody tr th:only-of-type {\n",
              "        vertical-align: middle;\n",
              "    }\n",
              "\n",
              "    .dataframe tbody tr th {\n",
              "        vertical-align: top;\n",
              "    }\n",
              "\n",
              "    .dataframe thead th {\n",
              "        text-align: right;\n",
              "    }\n",
              "</style>\n",
              "<table border=\"1\" class=\"dataframe\">\n",
              "  <thead>\n",
              "    <tr style=\"text-align: right;\">\n",
              "      <th></th>\n",
              "      <th>toby/numbers</th>\n",
              "    </tr>\n",
              "  </thead>\n",
              "  <tbody>\n",
              "    <tr>\n",
              "      <th>2020-01-31</th>\n",
              "      <td>30</td>\n",
              "    </tr>\n",
              "    <tr>\n",
              "      <th>2020-02-29</th>\n",
              "      <td>59</td>\n",
              "    </tr>\n",
              "    <tr>\n",
              "      <th>2020-03-31</th>\n",
              "      <td>90</td>\n",
              "    </tr>\n",
              "    <tr>\n",
              "      <th>2020-04-30</th>\n",
              "      <td>120</td>\n",
              "    </tr>\n",
              "    <tr>\n",
              "      <th>2020-05-31</th>\n",
              "      <td>151</td>\n",
              "    </tr>\n",
              "    <tr>\n",
              "      <th>2020-06-30</th>\n",
              "      <td>181</td>\n",
              "    </tr>\n",
              "    <tr>\n",
              "      <th>2020-07-31</th>\n",
              "      <td>212</td>\n",
              "    </tr>\n",
              "    <tr>\n",
              "      <th>2020-08-31</th>\n",
              "      <td>243</td>\n",
              "    </tr>\n",
              "    <tr>\n",
              "      <th>2020-09-30</th>\n",
              "      <td>273</td>\n",
              "    </tr>\n",
              "    <tr>\n",
              "      <th>2020-10-31</th>\n",
              "      <td>304</td>\n",
              "    </tr>\n",
              "    <tr>\n",
              "      <th>2020-11-30</th>\n",
              "      <td>334</td>\n",
              "    </tr>\n",
              "    <tr>\n",
              "      <th>2020-12-31</th>\n",
              "      <td>365</td>\n",
              "    </tr>\n",
              "    <tr>\n",
              "      <th>2021-01-31</th>\n",
              "      <td>396</td>\n",
              "    </tr>\n",
              "  </tbody>\n",
              "</table>\n",
              "</div>"
            ],
            "text/plain": [
              "            toby/numbers\n",
              "2020-01-31            30\n",
              "2020-02-29            59\n",
              "2020-03-31            90\n",
              "2020-04-30           120\n",
              "2020-05-31           151\n",
              "2020-06-30           181\n",
              "2020-07-31           212\n",
              "2020-08-31           243\n",
              "2020-09-30           273\n",
              "2020-10-31           304\n",
              "2020-11-30           334\n",
              "2020-12-31           365\n",
              "2021-01-31           396"
            ]
          },
          "metadata": {
            "tags": []
          },
          "execution_count": 9
        }
      ]
    },
    {
      "cell_type": "code",
      "metadata": {
        "id": "LH52zrDNTELT",
        "colab": {
          "base_uri": "https://localhost:8080/"
        },
        "outputId": "1e427ab1-2fb0-4b57-d618-6b733452ff46"
      },
      "source": [
        "fs.last('toby/numbers') # Last value"
      ],
      "execution_count": 10,
      "outputs": [
        {
          "output_type": "execute_result",
          "data": {
            "text/plain": [
              "{'toby/numbers': 405}"
            ]
          },
          "metadata": {
            "tags": []
          },
          "execution_count": 10
        }
      ]
    },
    {
      "cell_type": "markdown",
      "metadata": {
        "id": "wEVK9CLs_gFi"
      },
      "source": [
        "Take a look at the [ByteHub documentation](https://docs.bytehub.ai) for more examples and documentation on the feature store."
      ]
    }
  ]
}